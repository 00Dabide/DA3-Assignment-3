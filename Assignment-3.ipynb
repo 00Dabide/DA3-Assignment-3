{
 "cells": [
  {
   "cell_type": "code",
   "execution_count": 812,
   "metadata": {},
   "outputs": [],
   "source": [
    "import warnings\n",
    "warnings.filterwarnings('ignore')\n",
    "\n",
    "import pandas as pd\n",
    "import seaborn as sns\n",
    "import matplotlib.pyplot as plt\n",
    "from mizani.formatters import percent_format\n",
    "import os\n",
    "from plotnine import *\n",
    "import numpy as np\n",
    "import sys\n",
    "import numpy as np\n",
    "import statsmodels.api as sm\n",
    "import statsmodels.formula.api as smf\n",
    "from stargazer import stargazer\n",
    "from statsmodels.tools.eval_measures import mse,rmse\n",
    "\n",
    "from sklearn.ensemble import RandomForestRegressor\n",
    "from sklearn.model_selection import GridSearchCV\n",
    "from sklearn.model_selection import RandomizedSearchCV\n",
    "from sklearn.impute import SimpleImputer\n",
    "from sklearn.inspection import permutation_importance\n",
    "from sklearn.inspection import PartialDependenceDisplay\n",
    "from sklearn.inspection import partial_dependence\n",
    "from sklearn.compose import ColumnTransformer\n",
    "from sklearn.pipeline import Pipeline\n",
    "from sklearn.preprocessing import OneHotEncoder\n",
    "from sklearn.metrics import mean_squared_error\n",
    "from patsy import dmatrices\n",
    "from sklearn.model_selection import train_test_split, GridSearchCV, KFold\n",
    "import sklearn.metrics as metrics\n",
    "from sklearn.metrics import brier_score_loss, roc_curve, auc, confusion_matrix, roc_auc_score, mean_squared_error\n",
    "\n",
    "import math\n",
    "\n",
    "from sklearn.linear_model import ElasticNet\n",
    "from sklearn.linear_model import LinearRegression, LogisticRegression, LogisticRegressionCV\n",
    "\n",
    "import patsy"
   ]
  },
  {
   "cell_type": "code",
   "execution_count": 813,
   "metadata": {},
   "outputs": [],
   "source": [
    "# Current script\n",
    "current_path = os.getcwd()\n",
    "\n",
    "# Add utils folder to sys path \n",
    "sys.path.append(os.path.join(current_path, \"utils\"))\n",
    "\n",
    "# Import the prewritten helper functions\n",
    "from py_helper_functions import *"
   ]
  },
  {
   "cell_type": "markdown",
   "metadata": {},
   "source": [
    "# DATA"
   ]
  },
  {
   "cell_type": "code",
   "execution_count": 814,
   "metadata": {},
   "outputs": [],
   "source": [
    "# Read the data\n",
    "data = pd.read_csv(\"https://raw.githubusercontent.com/00Dabide/DA3-Assignment-3/main/cs_bisnode_panel.csv\")\n",
    "\n",
    "\n",
    "data = data.query(\"year != 2016\")\n",
    "# add all missing year and comp_id combinations -\n",
    "# originally missing combinations will have NAs in all other columns\n",
    "data = (\n",
    "    data.set_index([\"year\", \"comp_id\"])\n",
    "    .unstack(fill_value=\"toReplace\")\n",
    "    .stack()\n",
    "    .reset_index()\n",
    ")\n",
    "data = data.replace(\"toReplace\", np.nan)  # only way I could define it as NaN"
   ]
  },
  {
   "cell_type": "markdown",
   "metadata": {},
   "source": [
    "# Label Engineering"
   ]
  },
  {
   "cell_type": "code",
   "execution_count": 815,
   "metadata": {},
   "outputs": [],
   "source": [
    "pd.set_option(\"float_format\", \"{:.5f}\".format)"
   ]
  },
  {
   "cell_type": "code",
   "execution_count": 816,
   "metadata": {},
   "outputs": [],
   "source": [
    "#Alive in 2014: sales is positive (>0) and not NA, in 2014\n",
    "data[\"status_alive2014\"] = ((data[\"sales\"] > 0) & (data[\"sales\"].isna() == False) & (data[\"year\"] == 2014)).astype(int)\n",
    "\n",
    "#Alive in 2015: sales is positive (>0) and not NA, in 2015\n",
    "data[\"status_alive2015\"] = ((data[\"sales\"] > 0) & (data[\"sales\"].isna() == False) & (data[\"year\"] == 2015)).astype(int)"
   ]
  },
  {
   "cell_type": "code",
   "execution_count": 817,
   "metadata": {},
   "outputs": [],
   "source": [
    "#Your definition of default should be the following:\n",
    "# – Existed in 2014 (sales > 0)(status_alive2014 is 1), but did not exists in 2015 (sales is 0 or missing)(status_alive2015 is not 1)\n",
    "data[\"default\"] = ((data[\"status_alive2014\"] == 1) & (data.groupby(\"comp_id\")[\"status_alive2015\"].shift(-1) != 1)).astype(int)"
   ]
  },
  {
   "cell_type": "code",
   "execution_count": 818,
   "metadata": {},
   "outputs": [],
   "source": [
    "# drop variables with many NAs\n",
    "data = data.drop(\n",
    "   columns=[\"COGS\", \"finished_prod\", \"net_dom_sales\", \"net_exp_sales\", \"wages\"]\n",
    ")"
   ]
  },
  {
   "cell_type": "code",
   "execution_count": 819,
   "metadata": {},
   "outputs": [],
   "source": [
    "# less than 10mil sales\n",
    "data = data.loc[data[\"sales\"] < 10000000]"
   ]
  },
  {
   "cell_type": "code",
   "execution_count": 820,
   "metadata": {},
   "outputs": [],
   "source": [
    "# change negative sales values into 1\n",
    "data[\"sales\"] = np.where(\n",
    "    data[\"sales\"] < 0, 1, data[\"sales\"])"
   ]
  },
  {
   "cell_type": "code",
   "execution_count": 821,
   "metadata": {},
   "outputs": [],
   "source": [
    "# Create log sales, sales in millions, log sales in million\n",
    "\n",
    "data = data.assign(\n",
    "    ln_sales=np.where(\n",
    "        data[\"sales\"] > 0,\n",
    "        np.log(data[\"sales\"]),\n",
    "        (np.where(data[\"sales\"].isna(), np.nan, 0)),\n",
    "    ),  # NaN remain NaN\n",
    "    sales_mil=data[\"sales\"] / 1000000,\n",
    "    sales_mil_log=np.where(\n",
    "        data[\"sales\"] > 0,\n",
    "        np.log(data[\"sales\"] / 1000000),\n",
    "        (np.where(data[\"sales\"].isna(), np.nan, 0)),\n",
    "    ),\n",
    ")"
   ]
  },
  {
   "cell_type": "code",
   "execution_count": 822,
   "metadata": {},
   "outputs": [],
   "source": [
    "# 1 year difference in log sales million\n",
    "data[\"d1_sales_mil_log\"] = data[\"sales_mil_log\"] - data.groupby(\"comp_id\")[\n",
    "    \"sales_mil_log\"\n",
    "].shift(1)"
   ]
  },
  {
   "cell_type": "code",
   "execution_count": 823,
   "metadata": {},
   "outputs": [],
   "source": [
    "# replace age 0 for new firms + add dummy to capture it\n",
    "data[\"age\"] = np.where(\n",
    "    data[\"year\"] - data[\"founded_year\"] < 0, 0, data[\"year\"] - data[\"founded_year\"]\n",
    ")\n",
    "\n",
    "data[\"new\"] = np.where(\n",
    "    ((data[\"age\"] <= 1) | (data[\"balsheet_notfullyear\"] == 1)),\n",
    "    1,\n",
    "    (np.where(data[\"age\"].isna(), np.nan, 0)),\n",
    ")"
   ]
  },
  {
   "cell_type": "code",
   "execution_count": 824,
   "metadata": {},
   "outputs": [],
   "source": [
    "data[\"d1_sales_mil_log\"] = np.where(\n",
    "    data[\"new\"] == 1, 0, np.where(data[\"new\"].isna(), np.nan, data[\"d1_sales_mil_log\"])\n",
    ")\n",
    "\n",
    "data[\"new\"] = np.where(data[\"d1_sales_mil_log\"].isna(), 1, data[\"new\"])\n",
    "data[\"d1_sales_mil_log\"] = np.where(\n",
    "    data[\"d1_sales_mil_log\"].isna(), 0, data[\"d1_sales_mil_log\"]\n",
    ")"
   ]
  },
  {
   "cell_type": "markdown",
   "metadata": {},
   "source": [
    "# Feature Engineering"
   ]
  },
  {
   "cell_type": "code",
   "execution_count": 825,
   "metadata": {},
   "outputs": [],
   "source": [
    "# change some industry category codes\n",
    "# data = data.loc[data[\"ind2\"] == 26]"
   ]
  },
  {
   "cell_type": "code",
   "execution_count": 826,
   "metadata": {},
   "outputs": [],
   "source": [
    "# Firm characteristics\n",
    "# age squared\n",
    "data[\"age2\"] = data[\"age\"] ** 2\n",
    "\n",
    "# foreign management if more than 50% is foreign\n",
    "data[\"foreign_management\"] = np.where(\n",
    "    data[\"foreign\"] >= 0.5, 1, np.where(data[\"foreign\"].isna(), np.nan, 0)\n",
    ")\n",
    "\n",
    "# to category\n",
    "data[\"gender_m\"] = data[\"gender\"].astype(\"category\")\n",
    "data[\"m_region_loc\"] = data[\"region_m\"].astype(\"category\")"
   ]
  },
  {
   "cell_type": "code",
   "execution_count": 827,
   "metadata": {},
   "outputs": [
    {
     "data": {
      "text/plain": [
       "flag_asset_problem\n",
       "0.00000    267861\n",
       "1.00000       213\n",
       "Name: comp_id, dtype: int64"
      ]
     },
     "execution_count": 827,
     "metadata": {},
     "output_type": "execute_result"
    }
   ],
   "source": [
    "###########################################################\n",
    "# look at more financial variables, create ratios\n",
    "###########################################################\n",
    "\n",
    "# assets can't be negative. Change them to 0 and add a flag.\n",
    "data[\"flag_asset_problem\"] = np.where(\n",
    "    (\n",
    "        (data[\"intang_assets\"] < 0)\n",
    "        | (data[\"curr_assets\"] < 0)\n",
    "        | (data[\"fixed_assets\"] < 0)\n",
    "    ),\n",
    "    1,\n",
    "    0,\n",
    ")\n",
    "data[\"flag_asset_problem\"] = np.where(\n",
    "    (\n",
    "        (data[\"intang_assets\"].isna())\n",
    "        | (data[\"curr_assets\"].isna())\n",
    "        | (data[\"fixed_assets\"].isna())\n",
    "    ),\n",
    "    np.nan,\n",
    "    data[\"flag_asset_problem\"],\n",
    ")\n",
    "data.groupby(\"flag_asset_problem\").count()[\"comp_id\"]"
   ]
  },
  {
   "cell_type": "code",
   "execution_count": 828,
   "metadata": {},
   "outputs": [],
   "source": [
    "data[\"intang_assets\"] = np.where(data[\"intang_assets\"] < 0, 0, data[\"intang_assets\"])\n",
    "data[\"curr_assets\"] = np.where(data[\"curr_assets\"] < 0, 0, data[\"curr_assets\"])\n",
    "data[\"fixed_assets\"] = np.where(data[\"fixed_assets\"] < 0, 0, data[\"fixed_assets\"])"
   ]
  },
  {
   "cell_type": "code",
   "execution_count": 829,
   "metadata": {},
   "outputs": [
    {
     "data": {
      "text/plain": [
       "count        268074.00000\n",
       "mean         360183.29199\n",
       "std        26358118.25991\n",
       "min               0.00000\n",
       "25%            4907.40723\n",
       "50%           19551.85111\n",
       "75%           81255.55469\n",
       "max     10324711168.00000\n",
       "Name: total_assets_bs, dtype: float64"
      ]
     },
     "execution_count": 829,
     "metadata": {},
     "output_type": "execute_result"
    }
   ],
   "source": [
    "# generate total assets\n",
    "data[\"total_assets_bs\"] = (\n",
    "    data[\"intang_assets\"] + data[\"curr_assets\"] + data[\"fixed_assets\"]\n",
    ")\n",
    "data[\"total_assets_bs\"].describe()"
   ]
  },
  {
   "cell_type": "code",
   "execution_count": 830,
   "metadata": {},
   "outputs": [],
   "source": [
    "pl_names = [\n",
    "    \"extra_exp\",\n",
    "    \"extra_inc\",\n",
    "    \"extra_profit_loss\",\n",
    "    \"inc_bef_tax\",\n",
    "    \"inventories\",\n",
    "    \"material_exp\",\n",
    "    \"profit_loss_year\",\n",
    "    \"personnel_exp\",\n",
    "]\n",
    "bs_names = [\n",
    "    \"intang_assets\",\n",
    "    \"curr_liab\",\n",
    "    \"fixed_assets\",\n",
    "    \"liq_assets\",\n",
    "    \"curr_assets\",\n",
    "    \"share_eq\",\n",
    "    \"subscribed_cap\",\n",
    "    \"tang_assets\",\n",
    "]\n",
    "\n",
    "# divide all pl_names elements by sales and create new column for it\n",
    "data[[col + \"_pl\" for col in pl_names]] = data[pl_names].div(\n",
    "    data[\"sales\"], axis=\"index\"\n",
    ")\n",
    "\n",
    "# divide all bs_names elements by total_assets_bs and create new column for it\n",
    "data[[col + \"_bs\" for col in bs_names]] = (\n",
    "    data[bs_names]\n",
    "    .div(data[\"total_assets_bs\"], axis=\"index\")\n",
    "    .replace((np.inf, -np.inf, np.nan), (0, 0, 0))\n",
    ")\n",
    "# get Nan values where total_assets_bs is NaN\n",
    "for col in bs_names:\n",
    "    data[col + \"_bs\"] = np.where(\n",
    "        data[\"total_assets_bs\"].isna(), np.nan, data[col + \"_bs\"]\n",
    "    )"
   ]
  },
  {
   "cell_type": "code",
   "execution_count": 831,
   "metadata": {},
   "outputs": [],
   "source": [
    "########################################################################\n",
    "# creating flags, and winsorizing tails\n",
    "########################################################################\n",
    "\n",
    "# Variables that represent accounting items that cannot be negative (e.g. materials)\n",
    "zero = [\n",
    "    \"extra_exp_pl\",\n",
    "    \"extra_inc_pl\",\n",
    "    \"inventories_pl\",\n",
    "    \"material_exp_pl\",\n",
    "    \"personnel_exp_pl\",\n",
    "    \"curr_liab_bs\",\n",
    "    \"fixed_assets_bs\",\n",
    "    \"liq_assets_bs\",\n",
    "    \"curr_assets_bs\",\n",
    "    \"subscribed_cap_bs\",\n",
    "    \"intang_assets_bs\",\n",
    "]\n",
    "\n",
    "data[[col + \"_flag_high\" for col in zero]] = np.where(\n",
    "    data[zero].isna(), np.nan, (data[zero] > 1).astype(int)\n",
    ")\n",
    "data[[col for col in zero]] = np.where(\n",
    "    data[zero].isna(), np.nan, np.where(data[zero] > 1, 1, data[zero])\n",
    ")\n",
    "data[[col + \"_flag_error\" for col in zero]] = np.where(\n",
    "    data[zero].isna(), np.nan, (data[zero] < 0).astype(int)\n",
    ")\n",
    "data[[col for col in zero]] = np.where(\n",
    "    data[zero].isna(), np.nan, np.where(data[zero] < 0, 0, data[zero])\n",
    ")"
   ]
  },
  {
   "cell_type": "code",
   "execution_count": 832,
   "metadata": {},
   "outputs": [],
   "source": [
    "# for vars that could be any, but are mostly between -1 and 1\n",
    "anyof = [\"extra_profit_loss_pl\", \"inc_bef_tax_pl\", \"profit_loss_year_pl\", \"share_eq_bs\"]\n",
    "\n",
    "data[[col + \"_flag_low\" for col in anyof]] = np.where(\n",
    "    data[anyof].isna(), np.nan, (data[anyof] < -1).astype(int)\n",
    ")\n",
    "data[[col for col in anyof]] = np.where(\n",
    "    data[anyof].isna(), np.nan, np.where((data[anyof] < -1), -1, data[anyof])\n",
    ")\n",
    "data[[col + \"_flag_high\" for col in anyof]] = np.where(\n",
    "    data[anyof].isna(), np.nan, (data[anyof] > 1).astype(int)\n",
    ")\n",
    "data[[col for col in anyof]] = np.where(\n",
    "    data[anyof].isna(), np.nan, np.where((data[anyof] > 1), 1, data[anyof])\n",
    ")\n",
    "data[[col + \"_flag_zero\" for col in anyof]] = np.where(\n",
    "    data[anyof].isna(), np.nan, (data[anyof] == 0).astype(int)\n",
    ")\n",
    "data[[col + \"_quad\" for col in anyof]] = np.where(\n",
    "    data[anyof].isna(), np.nan, data[anyof] ** 2\n",
    ")\n",
    "\n",
    "# dropping flags with no variation\n",
    "flag_columns = [col for col in data.columns if \"flag\" in col]\n",
    "data = data.drop(\n",
    "    data[flag_columns].std()[(data[flag_columns].std() == 0)].index, axis=1\n",
    ")"
   ]
  },
  {
   "cell_type": "code",
   "execution_count": 833,
   "metadata": {},
   "outputs": [],
   "source": [
    "########################################################################\n",
    "# additional\n",
    "# including some imputation\n",
    "########################################################################\n",
    "\n",
    "# CEO age\n",
    "data[\"ceo_age\"] = data[\"year\"] - data[\"birth_year\"]\n",
    "data = data.assign(\n",
    "    flag_low_ceo_age=(data[\"ceo_age\"] < 25).astype(int),\n",
    "    flag_high_ceo_age=(data[\"ceo_age\"] > 75).astype(int),\n",
    "    flag_miss_ceo_age=(data[\"ceo_age\"].isna()).astype(int),\n",
    ")\n",
    "\n",
    "\n",
    "data[\"ceo_age\"] = np.where(data[\"ceo_age\"] < 25, 25, data[\"ceo_age\"])\n",
    "data[\"ceo_age\"] = np.where(data[\"ceo_age\"] > 75, 75, data[\"ceo_age\"])\n",
    "data[\"ceo_age\"] = np.where(\n",
    "    data[\"ceo_age\"].isna(), data[\"ceo_age\"].mean(), data[\"ceo_age\"]\n",
    ")\n",
    "data[\"ceo_young\"] = (data[\"ceo_age\"] < 40).astype(int)"
   ]
  },
  {
   "cell_type": "code",
   "execution_count": 834,
   "metadata": {},
   "outputs": [],
   "source": [
    "# number emp, very noisy measure\n",
    "data[\"labor_avg_mod\"] = np.where(\n",
    "    data[\"labor_avg\"].isna(), data[\"labor_avg\"].mean(), data[\"labor_avg\"]\n",
    ")\n",
    "data[\"flag_miss_labor_avg\"] = (data[\"labor_avg\"].isna()).astype(int)"
   ]
  },
  {
   "cell_type": "code",
   "execution_count": 835,
   "metadata": {},
   "outputs": [],
   "source": [
    "data = data.drop([\"labor_avg\"], axis=1)"
   ]
  },
  {
   "cell_type": "code",
   "execution_count": 836,
   "metadata": {},
   "outputs": [],
   "source": [
    "# create category type variables\n",
    "data[\"urban_m\"] = data[\"urban_m\"].astype(\"category\")\n",
    "data[\"default_f\"] = data[\"default\"].astype(\"category\")\n",
    "data[\"default_f\"] = data[\"default_f\"].cat.rename_categories([\"no_default\", \"default\"])"
   ]
  },
  {
   "cell_type": "code",
   "execution_count": 837,
   "metadata": {},
   "outputs": [],
   "source": [
    "########################################################################\n",
    "# sales\n",
    "########################################################################\n",
    "data[\"sales_mil_log_sq\"] = data[\"sales_mil_log\"] ** 2"
   ]
  },
  {
   "cell_type": "code",
   "execution_count": 838,
   "metadata": {},
   "outputs": [
    {
     "data": {
      "image/png": "[encoded data removed]",
      "text/plain": [
       "<Figure size 640x480 with 1 Axes>"
      ]
     },
     "metadata": {
      "image/png": {
       "height": 480,
       "width": 640
      }
     },
     "output_type": "display_data"
    },
    {
     "data": {
      "text/plain": [
       "<Figure Size: (640 x 480)>"
      ]
     },
     "execution_count": 838,
     "metadata": {},
     "output_type": "execute_result"
    }
   ],
   "source": [
    "(\n",
    "    ggplot(data, aes(x=\"sales_mil_log\", y=\"default\"))\n",
    "    + geom_point(color=color[0])\n",
    "    + geom_smooth(method=\"lm\", formula=\"y ~ x + I(x**2)\", color=color[1], se=False)\n",
    "    + geom_smooth(method=\"loess\", color=color[2], se=False, size=1.5, span=0.9)\n",
    "    + labs(x=\"sales_mil_log\", y=\"default\")\n",
    "    + theme_bw()\n",
    ")"
   ]
  },
  {
   "cell_type": "code",
   "execution_count": 839,
   "metadata": {},
   "outputs": [
    {
     "name": "stdout",
     "output_type": "stream",
     "text": [
      "                            OLS Regression Results                            \n",
      "==============================================================================\n",
      "Dep. Variable:                default   R-squared:                       0.007\n",
      "Model:                            OLS   Adj. R-squared:                  0.007\n",
      "Method:                 Least Squares   F-statistic:                     923.6\n",
      "Date:                Wed, 28 Feb 2024   Prob (F-statistic):               0.00\n",
      "Time:                        15:57:20   Log-Likelihood:             2.5184e+05\n",
      "No. Observations:              268212   AIC:                        -5.037e+05\n",
      "Df Residuals:                  268209   BIC:                        -5.036e+05\n",
      "Df Model:                           2                                         \n",
      "Covariance Type:            nonrobust                                         \n",
      "====================================================================================\n",
      "                       coef    std err          t      P>|t|      [0.025      0.975]\n",
      "------------------------------------------------------------------------------------\n",
      "Intercept            0.0011      0.000      3.460      0.001       0.000       0.002\n",
      "sales_mil_log       -0.0016      0.000     -8.271      0.000      -0.002      -0.001\n",
      "sales_mil_log_sq     0.0003   2.76e-05     11.402      0.000       0.000       0.000\n",
      "==============================================================================\n",
      "Omnibus:                   414768.058   Durbin-Watson:                   1.830\n",
      "Prob(Omnibus):                  0.000   Jarque-Bera (JB):        124458443.409\n",
      "Skew:                          10.235   Prob(JB):                         0.00\n",
      "Kurtosis:                     106.526   Cond. No.                         37.6\n",
      "==============================================================================\n",
      "\n",
      "Notes:\n",
      "[1] Standard Errors assume that the covariance matrix of the errors is correctly specified.\n"
     ]
    }
   ],
   "source": [
    "# Linear regressions\n",
    "ols_s = smf.ols(\"default ~ sales_mil_log + sales_mil_log_sq\", data=data).fit()\n",
    "print(ols_s.summary())"
   ]
  },
  {
   "cell_type": "code",
   "execution_count": 840,
   "metadata": {},
   "outputs": [
    {
     "data": {
      "text/plain": [
       "count   268212.00000\n",
       "mean         0.05178\n",
       "std          1.27307\n",
       "min        -13.81551\n",
       "25%         -0.01824\n",
       "50%          0.00000\n",
       "75%          0.06851\n",
       "max         14.63481\n",
       "Name: d1_sales_mil_log, dtype: float64"
      ]
     },
     "execution_count": 840,
     "metadata": {},
     "output_type": "execute_result"
    }
   ],
   "source": [
    "########################################################################\n",
    "# sales change\n",
    "########################################################################\n",
    "# Note: graphs not in book\n",
    "\n",
    "# lowess\n",
    "data[\"d1_sales_mil_log\"].describe()"
   ]
  },
  {
   "cell_type": "code",
   "execution_count": 841,
   "metadata": {},
   "outputs": [
    {
     "data": {
      "image/png": "[encoded data removed]",
      "text/plain": [
       "<Figure size 640x480 with 1 Axes>"
      ]
     },
     "metadata": {
      "image/png": {
       "height": 480,
       "width": 640
      }
     },
     "output_type": "display_data"
    },
    {
     "data": {
      "text/plain": [
       "<Figure Size: (640 x 480)>"
      ]
     },
     "execution_count": 841,
     "metadata": {},
     "output_type": "execute_result"
    }
   ],
   "source": [
    "(\n",
    "    ggplot(data, aes(x=\"d1_sales_mil_log\", y=\"default\"))\n",
    "    + geom_point(color=color[1])\n",
    "    + geom_smooth(method=\"loess\", color=color[0], se=False, size=1.5, span=0.9)\n",
    "    + labs(x=\"Growth rate (Diff of ln sales)\", y=\"default\")\n",
    "    + scale_x_continuous(limits=(-6, 10), breaks=seq(-5, 10, by=5))\n",
    "    + theme_bw()\n",
    ")"
   ]
  },
  {
   "cell_type": "code",
   "execution_count": 842,
   "metadata": {},
   "outputs": [],
   "source": [
    "# generate variables ---------------------------------------------------\n",
    "\n",
    "data[\"flag_low_d1_sales_mil_log\"] = np.where(data[\"d1_sales_mil_log\"] < -1.5, 1, 0)\n",
    "data[\"flag_high_d1_sales_mil_log\"] = np.where(data[\"d1_sales_mil_log\"] > 1.5, 1, 0)\n",
    "data[\"d1_sales_mil_log_mod\"] = np.where(\n",
    "    data[\"d1_sales_mil_log\"] < -1.5,\n",
    "    -1.5,\n",
    "    np.where(data[\"d1_sales_mil_log\"] > 1.5, 1.5, data[\"d1_sales_mil_log\"]),\n",
    ")\n",
    "data[\"d1_sales_mil_log_mod_sq\"] = data[\"d1_sales_mil_log_mod\"] ** 2"
   ]
  },
  {
   "cell_type": "code",
   "execution_count": 843,
   "metadata": {},
   "outputs": [],
   "source": [
    "# drop unused factor levels\n",
    "for col in data.select_dtypes(include=[\"category\"]).columns:\n",
    "    data[col] = data[col].cat.remove_unused_categories()"
   ]
  },
  {
   "cell_type": "code",
   "execution_count": 844,
   "metadata": {},
   "outputs": [
    {
     "data": {
      "image/png": "[encoded data removed]",
      "text/plain": [
       "<Figure size 640x480 with 1 Axes>"
      ]
     },
     "metadata": {
      "image/png": {
       "height": 480,
       "width": 640
      }
     },
     "output_type": "display_data"
    },
    {
     "data": {
      "text/plain": [
       "<Figure Size: (640 x 480)>"
      ]
     },
     "execution_count": 844,
     "metadata": {},
     "output_type": "execute_result"
    }
   ],
   "source": [
    "(\n",
    "    ggplot(data, aes(x=\"d1_sales_mil_log\", y=\"default\"))\n",
    "    + geom_point(size=0.1, color=color[1])\n",
    "    + geom_smooth(method=\"loess\", color=color[0], se=False, size=1.5, span=0.9)\n",
    "    + labs(x=\"Growth rate (Diff of ln sales)\", y=\"default\")\n",
    "    + scale_x_continuous(limits=(-1.5, 1.5), breaks=seq(-1.5, 1.5, by=0.5))\n",
    "    + theme_bw()\n",
    ")"
   ]
  },
  {
   "cell_type": "code",
   "execution_count": 845,
   "metadata": {},
   "outputs": [
    {
     "data": {
      "image/png": "[encoded data removed]",
      "text/plain": [
       "<Figure size 640x480 with 1 Axes>"
      ]
     },
     "metadata": {
      "image/png": {
       "height": 480,
       "width": 640
      }
     },
     "output_type": "display_data"
    },
    {
     "data": {
      "text/plain": [
       "<Figure Size: (640 x 480)>"
      ]
     },
     "execution_count": 845,
     "metadata": {},
     "output_type": "execute_result"
    }
   ],
   "source": [
    "(\n",
    "    ggplot(data, aes(x=\"d1_sales_mil_log\", y=\"d1_sales_mil_log_mod\"))\n",
    "    + geom_point(size=0.1, color=color[1])\n",
    "    + labs(\n",
    "        x=\"Growth rate (Diff of ln sales) (original)\",\n",
    "        y=\"Growth rate (Diff of ln sales) (winsorized)\",\n",
    "    )\n",
    "    + scale_x_continuous(limits=(-5, 5), breaks=seq(-5, 5, by=1))\n",
    "    + scale_y_continuous(limits=(-3, 3), breaks=seq(-3, 3, by=1))\n",
    "    + theme_bw()\n",
    ")"
   ]
  },
  {
   "cell_type": "code",
   "execution_count": 846,
   "metadata": {},
   "outputs": [],
   "source": [
    "# Fill NAs\n",
    "\n",
    "fillengvar3 = ['extra_exp_pl_flag_high',\n",
    " 'extra_inc_pl_flag_high',\n",
    " 'inventories_pl_flag_high',\n",
    " 'material_exp_pl_flag_high',\n",
    " 'personnel_exp_pl_flag_high',\n",
    " 'curr_liab_bs_flag_high',\n",
    " 'liq_assets_bs_flag_high',\n",
    " 'subscribed_cap_bs_flag_high',\n",
    " 'extra_exp_pl_flag_error',\n",
    " 'extra_inc_pl_flag_error',\n",
    " 'inventories_pl_flag_error',\n",
    " 'material_exp_pl_flag_error',\n",
    " 'personnel_exp_pl_flag_error',\n",
    " 'curr_liab_bs_flag_error',\n",
    " 'liq_assets_bs_flag_error',\n",
    " 'subscribed_cap_bs_flag_error',\n",
    " 'extra_profit_loss_pl_flag_low',\n",
    " 'inc_bef_tax_pl_flag_low',\n",
    " 'profit_loss_year_pl_flag_low',\n",
    " 'share_eq_bs_flag_low',\n",
    " 'extra_profit_loss_pl_flag_high',\n",
    " 'inc_bef_tax_pl_flag_high',\n",
    " 'profit_loss_year_pl_flag_high',\n",
    " 'share_eq_bs_flag_high',\n",
    " 'extra_profit_loss_pl_flag_zero',\n",
    " 'inc_bef_tax_pl_flag_zero',\n",
    " 'profit_loss_year_pl_flag_zero',\n",
    " 'share_eq_bs_flag_zero']\n",
    "\n",
    "for i in fillengvar3:\n",
    "    data[i] = data[i].fillna(0)\n",
    "\n",
    "data[\"liq_assets_bs\"] = data[\"liq_assets_bs\"].fillna(0)\n",
    "data[\"foreign\"] = data[\"foreign\"].fillna(0)\n",
    "data[\"material_exp_pl\"] = data[\"material_exp_pl\"].fillna(0)\n",
    "data[\"foreign_management\"] = data[\"foreign_management\"].fillna(0)\n",
    "data[\"sales_mil_log\"] = data[\"sales_mil_log\"].fillna(0)\n",
    "data[\"sales_mil_log_sq\"] = data[\"sales_mil_log_sq\"].fillna(0)\n",
    "data[\"d1_sales_mil_log_mod\"] = data[\"d1_sales_mil_log_mod\"].fillna(0)\n",
    "data[\"profit_loss_year_pl\"] = data[\"profit_loss_year_pl\"].fillna(0)\n",
    "data[\"fixed_assets_bs\"] = data[\"fixed_assets_bs\"].fillna(0)\n",
    "data[\"share_eq_bs\"] = data[\"share_eq_bs\"].fillna(0)\n",
    "data[\"curr_liab_bs\"] = data[\"curr_liab_bs\"].fillna(0)\n",
    "data[\"curr_liab_bs_flag_high\"] = data[\"curr_liab_bs_flag_high\"].fillna(0)\n",
    "data[\"curr_liab_bs_flag_error\"] = data[\"curr_liab_bs_flag_error\"].fillna(0)\n",
    "data[\"age\"] = data[\"age\"].fillna(0)\n",
    "data[\"age2\"] = data[\"age2\"].fillna(0)\n",
    "data[\"total_assets_bs\"] = data[\"total_assets_bs\"].fillna(0)\n",
    "data[\"curr_assets_bs\"] = data[\"curr_assets_bs\"].fillna(0)\n",
    "data[\"subscribed_cap_bs\"] = data[\"subscribed_cap_bs\"].fillna(0)\n",
    "data[\"intang_assets_bs\"] = data[\"intang_assets_bs\"].fillna(0)\n",
    "data[\"extra_exp_pl\"] = data[\"extra_exp_pl\"].fillna(0)\n",
    "data[\"extra_inc_pl\"] = data[\"extra_inc_pl\"].fillna(0)\n",
    "data[\"extra_profit_loss_pl\"] = data[\"extra_profit_loss_pl\"].fillna(0)\n",
    "data[\"inc_bef_tax_pl\"] = data[\"inc_bef_tax_pl\"].fillna(0)\n",
    "data[\"inventories_pl\"] = data[\"inventories_pl\"].fillna(0)\n",
    "data[\"personnel_exp_pl\"] = data[\"personnel_exp_pl\"].fillna(0)\n",
    "data[\"extra_profit_loss_pl_quad\"] = data[\"extra_profit_loss_pl_quad\"].fillna(0)\n",
    "data[\"inc_bef_tax_pl_quad\"] = data[\"inc_bef_tax_pl_quad\"].fillna(0)\n",
    "data[\"profit_loss_year_pl_quad\"] = data[\"profit_loss_year_pl_quad\"].fillna(0)\n",
    "data[\"share_eq_bs_quad\"] = data[\"share_eq_bs_quad\"].fillna(0)\n",
    "data[\"female\"] = data[\"female\"].fillna(0)\n",
    "data[\"ceo_count\"] = data[\"ceo_count\"].fillna(0)"
   ]
  },
  {
   "cell_type": "code",
   "execution_count": 847,
   "metadata": {},
   "outputs": [
    {
     "data": {
      "text/plain": [
       "profit_loss_year\n",
       "False    268071\n",
       "True        141\n",
       "Name: count, dtype: int64"
      ]
     },
     "execution_count": 847,
     "metadata": {},
     "output_type": "execute_result"
    }
   ],
   "source": [
    "data[\"profit_loss_year\"].isna().value_counts()"
   ]
  },
  {
   "cell_type": "markdown",
   "metadata": {},
   "source": [
    "# Holdout Sample"
   ]
  },
  {
   "cell_type": "code",
   "execution_count": 848,
   "metadata": {},
   "outputs": [
    {
     "data": {
      "text/plain": [
       "count      1037.00000\n",
       "mean     490202.21793\n",
       "std     1154087.41432\n",
       "min        1070.37036\n",
       "25%       21766.66602\n",
       "50%       72700.00000\n",
       "75%      333888.87500\n",
       "max     9576485.00000\n",
       "Name: sales, dtype: float64"
      ]
     },
     "execution_count": 848,
     "metadata": {},
     "output_type": "execute_result"
    }
   ],
   "source": [
    "data_holdout = data\n",
    "\n",
    "# Existed in 2014 (sales > 0), but did not exists in 2015 (sales is 0 or missing)\n",
    "Exist14 = data.loc[(data[\"year\"] == 2014) & (data[\"sales\"] > 0)]\n",
    "Exist15 = data.loc[(data[\"year\"] == 2015) & (data[\"sales\"].isin([0, np.nan]))]\n",
    "\n",
    "data_holdout = Exist14[~Exist14.index.isin(Exist15.index)]\n",
    "\n",
    "# between 1000 and 10 million\n",
    "data_holdout = data_holdout.loc[(data_holdout[\"sales\"] > 1000) & (data_holdout[\"sales\"] < 10000000)]\n",
    "\n",
    "# ind2 == 26\n",
    "data_holdout = data_holdout.loc[data_holdout[\"ind2\"] == 26]\n",
    "\n",
    "#data_train = data[~data.index.isin(data_holdout.index)]\n",
    "\n",
    "data_holdout[\"sales\"].describe()"
   ]
  },
  {
   "cell_type": "code",
   "execution_count": 849,
   "metadata": {},
   "outputs": [
    {
     "data": {
      "text/plain": [
       "default\n",
       "0    981\n",
       "1     56\n",
       "Name: count, dtype: int64"
      ]
     },
     "execution_count": 849,
     "metadata": {},
     "output_type": "execute_result"
    }
   ],
   "source": [
    "data_holdout[\"default\"].value_counts()"
   ]
  },
  {
   "cell_type": "code",
   "execution_count": 850,
   "metadata": {},
   "outputs": [],
   "source": [
    "data = data.reset_index()\n",
    "data = data.drop(\"index\", axis = 1)"
   ]
  },
  {
   "cell_type": "markdown",
   "metadata": {},
   "source": [
    "# Helper Functions"
   ]
  },
  {
   "cell_type": "code",
   "execution_count": 851,
   "metadata": {},
   "outputs": [],
   "source": [
    "def regression_results(y_true, y_pred):\n",
    "\n",
    "    # Regression metrics\n",
    "    explained_variance=metrics.explained_variance_score(y_true, y_pred)\n",
    "    mean_absolute_error=metrics.mean_absolute_error(y_true, y_pred) \n",
    "    mse=metrics.mean_squared_error(y_true, y_pred) \n",
    "    median_absolute_error=metrics.median_absolute_error(y_true, y_pred)\n",
    "    r2=metrics.r2_score(y_true, y_pred)\n",
    "\n",
    "    print('explained_variance: ', round(explained_variance,4))    \n",
    "    print('r2: ', round(r2,4))\n",
    "    print('MAE: ', round(mean_absolute_error,4))\n",
    "    print('MSE: ', round(mse,4))\n",
    "    print('RMSE: ', round(np.sqrt(mse),4))\n",
    "    \n",
    "def create_coef_matrix(X, model):\n",
    "    coef_matrix = pd.concat(\n",
    "        [pd.DataFrame(X.columns),pd.DataFrame(model.coef_.flatten())], axis = 1\n",
    "    )\n",
    "    coef_matrix.columns = ['variable', 'coefficient']\n",
    "    coef_matrix.iloc[-1] = ['Intercept', model.intercept_.flatten()[0]]\n",
    "    return coef_matrix\n",
    "\n",
    "def cv_summary(lambdas, C_values, model):\n",
    "    d = {'lambdas': lambdas, 'C_values': C_values, 'mean_cv_score': model.scores_[1].mean(axis = 0)}\n",
    "    return(pd.DataFrame(data=d))\n",
    "\n",
    "def create_roc_plot(y_true, y_pred):\n",
    "    fpr, tpr, thresholds = roc_curve(y_true, y_pred)\n",
    "    all_coords = pd.DataFrame({\n",
    "        'fpr': fpr,\n",
    "        'tpr': tpr,\n",
    "        'thresholds': thresholds\n",
    "    })\n",
    "    \n",
    "    plot = ggplot(all_coords, aes(x = 'fpr', y = 'tpr')) \\\n",
    "        + geom_line(color=color[0], size = 0.7) \\\n",
    "        + geom_area(position = 'identity', fill = 'mediumaquamarine', alpha = 0.3) \\\n",
    "        + xlab(\"False Positive Rate (1-Specifity)\") \\\n",
    "        + ylab(\"True Positive Rate (Sensitivity)\") \\\n",
    "        + geom_abline(intercept = 0, slope = 1,  linetype = \"dotted\", color = \"black\") \\\n",
    "        + scale_y_continuous(limits = (0, 1), breaks = seq(0, 1, .1), expand = (0, 0.01)) \\\n",
    "        + scale_x_continuous(limits = (0, 1), breaks = seq(0, 1, .1), expand = (0.01, 0)) \\\n",
    "        + theme_bw()\n",
    "    return(plot)\n",
    "\n",
    "def sigmoid_array(x):\n",
    "    return(1 / (1 + np.exp(-x)))\n",
    "\n",
    "def generate_fold_prediction(model, X, fold, param_index):\n",
    "    fold_coef = model.coefs_paths_[1][fold,param_index,:]\n",
    "    return(sigmoid_array(np.dot(X, np.transpose(fold_coef)[:-1]) +  np.transpose(fold_coef)[-1]))\n",
    "\n",
    "def create_loss_plot(all_coords, optimal_threshold, curr_exp_loss):\n",
    "    all_coords_copy = all_coords.copy()\n",
    "    all_coords_copy['loss'] = (all_coords_copy.false_pos*FP + all_coords_copy.false_neg*FN)/all_coords_copy.n\n",
    "    \n",
    "    t = optimal_threshold\n",
    "    l = curr_exp_loss\n",
    "    \n",
    "    plot = ggplot(all_coords_copy, aes(x = 'thresholds', y = 'loss')) + \\\n",
    "        geom_line(color=color[0], size=0.7) + \\\n",
    "        scale_x_continuous(breaks = seq(0, 1.1, by = 0.1)) + \\\n",
    "        coord_cartesian(xlim=(0,1))+ \\\n",
    "        geom_vline(xintercept = t , color = color[0] ) + \\\n",
    "        annotate(geom = \"text\", x = t - 0.01, y= max(all_coords_copy.loss) - 0.4,\n",
    "                 label=\"best threshold: \" + str(round(t,2)),\n",
    "                 colour=color[1], angle=90, size = 7) +\\\n",
    "        annotate(geom = \"text\", x = t + 0.06, y= l,\\\n",
    "                 label= str(round(l, 2)), size = 7) +\\\n",
    "        theme_bw()\n",
    "    return(plot)\n",
    "\n",
    "\n",
    "def create_roc_plot_with_optimal(all_coords, optimal_threshold):\n",
    "    all_coords_copy = all_coords.copy()\n",
    "    all_coords_copy['sp'] = all_coords_copy.true_neg/all_coords_copy.neg\n",
    "    all_coords_copy['se'] = all_coords_copy.true_pos/all_coords_copy.pos\n",
    "    \n",
    "    best_coords = all_coords_copy[all_coords_copy.thresholds == optimal_threshold]\n",
    "    sp = best_coords.sp.values[0]\n",
    "    se = best_coords.se.values[0]\n",
    "\n",
    "    plot = ggplot(all_coords_copy, aes(x = 'sp', y = 'se')) +\\\n",
    "        geom_line(color=color[0], size=0.7) +\\\n",
    "        scale_y_continuous(breaks = seq(0, 1.1, by = 0.1)) +\\\n",
    "        scale_x_reverse(breaks = seq(0, 1.1, by = 0.1)) +\\\n",
    "        geom_point(data = pd.DataFrame({'sp': [sp], 'se': [se]})) +\\\n",
    "        annotate(geom = \"text\", x = sp, y = se + 0.03,\n",
    "                 label = str(round(sp, 2)) + ', ' + str(round(se, 2)), size = 7) +\\\n",
    "        theme_bw()\n",
    "    return(plot)"
   ]
  },
  {
   "cell_type": "markdown",
   "metadata": {},
   "source": [
    "# Variable sets"
   ]
  },
  {
   "cell_type": "code",
   "execution_count": 852,
   "metadata": {},
   "outputs": [],
   "source": [
    "k = KFold(n_splits = 5, shuffle = True, random_state = 20240205)"
   ]
  },
  {
   "cell_type": "code",
   "execution_count": 853,
   "metadata": {},
   "outputs": [],
   "source": [
    "rawvars = [\"curr_assets\", \"curr_liab\", \"extra_exp\", \"extra_inc\", \"extra_profit_loss\", \"fixed_assets\",\n",
    "              \"inc_bef_tax\", \"intang_assets\", \"inventories\", \"liq_assets\", \"material_exp\", \"personnel_exp\",\n",
    "              \"profit_loss_year\", \"sales\", \"share_eq\", \"subscribed_cap\"]\n",
    "qualityvars = [\"balsheet_flag\", \"balsheet_length\", \"balsheet_notfullyear\"]\n",
    "engvar = [\"total_assets_bs\", \"fixed_assets_bs\", \"liq_assets_bs\", \"curr_assets_bs\",\n",
    "            \"share_eq_bs\", \"subscribed_cap_bs\", \"intang_assets_bs\", \"extra_exp_pl\",\n",
    "            \"extra_inc_pl\", \"extra_profit_loss_pl\", \"inc_bef_tax_pl\", \"inventories_pl\",\n",
    "            \"material_exp_pl\", \"profit_loss_year_pl\", \"personnel_exp_pl\"]\n",
    "engvar2 = [\"extra_profit_loss_pl_quad\", \"inc_bef_tax_pl_quad\",\n",
    "             \"profit_loss_year_pl_quad\", \"share_eq_bs_quad\"]\n",
    "engvar3 = []\n",
    "for col in data.columns:\n",
    "    if col.endswith('flag_low') or col.endswith('flag_high') or col.endswith('flag_error') or col.endswith('flag_zero'):\n",
    "        engvar3.append(col)\n",
    "\n",
    "\n",
    "d1 =  [\"d1_sales_mil_log_mod\", \"d1_sales_mil_log_mod_sq\",\n",
    "         \"flag_low_d1_sales_mil_log\", \"flag_high_d1_sales_mil_log\"]\n",
    "hr = [\"female\", \"ceo_age\", \"flag_high_ceo_age\", \"flag_low_ceo_age\",\n",
    "        \"flag_miss_ceo_age\", \"ceo_count\", \"labor_avg_mod\",\n",
    "        \"flag_miss_labor_avg\", \"foreign_management\"]"
   ]
  },
  {
   "cell_type": "code",
   "execution_count": 854,
   "metadata": {},
   "outputs": [],
   "source": [
    "m_region_locmat = patsy.dmatrix(\"0 + C(m_region_loc)\",data, return_type=\"dataframe\")\n",
    "m_region_locmat = m_region_locmat.drop(['C(m_region_loc)[Central]'], axis=1)"
   ]
  },
  {
   "cell_type": "code",
   "execution_count": 855,
   "metadata": {},
   "outputs": [],
   "source": [
    "# Define rfvars for RF (no interactions, no modified features)\n",
    "rfvars  = pd.concat([data[[\"sales_mil\", \"d1_sales_mil_log\"] + rawvars + hr + qualityvars]], axis=1)"
   ]
  },
  {
   "cell_type": "code",
   "execution_count": 869,
   "metadata": {},
   "outputs": [],
   "source": [
    "# Define X1\n",
    "basevars = data[[\"sales_mil_log\", \"sales_mil_log_sq\", \"d1_sales_mil_log_mod\", \"profit_loss_year_pl\"]]\n",
    "X1 = pd.concat([basevars], axis=1)\n",
    "\n",
    "# Define X2\n",
    "X2additional_vars = data[[\"fixed_assets_bs\", \"share_eq_bs\",\"curr_liab_bs\", \"curr_liab_bs_flag_high\", \\\n",
    "                          \"curr_liab_bs_flag_error\", \"foreign_management\"]]\n",
    "X2 = pd.concat([X1, X2additional_vars], axis=1)\n",
    "\n",
    "# Define X3\n",
    "firm = pd.concat([data[[\"age\", \"age2\", \"new\"]]], axis=1)\n",
    "X3 = pd.concat([data[[\"sales_mil_log\", \"sales_mil_log_sq\"] + engvar + d1], firm], axis=1)\n",
    "\n",
    "# Define X4\n",
    "X4 = pd.concat([data[[\"sales_mil_log\", \"sales_mil_log_sq\"] + engvar + d1 \\\n",
    "                                 + engvar2 + engvar3 + hr + qualityvars], firm], axis=1)"
   ]
  },
  {
   "cell_type": "code",
   "execution_count": 857,
   "metadata": {},
   "outputs": [],
   "source": [
    "y = data['default']"
   ]
  },
  {
   "cell_type": "code",
   "execution_count": 858,
   "metadata": {},
   "outputs": [],
   "source": [
    "index_train, index_holdout= train_test_split(\n",
    "    data.index.values, train_size=0.8, random_state=42)\n",
    "\n",
    "y_train = y.iloc[index_train]\n",
    "y_holdout = y.iloc[index_holdout]"
   ]
  },
  {
   "cell_type": "markdown",
   "metadata": {},
   "source": [
    "# Simple linear and logistic models"
   ]
  },
  {
   "cell_type": "code",
   "execution_count": 859,
   "metadata": {},
   "outputs": [
    {
     "name": "stdout",
     "output_type": "stream",
     "text": [
      "explained_variance:  0.0086\n",
      "r2:  0.0086\n",
      "MAE:  0.0185\n",
      "MSE:  0.0089\n",
      "RMSE:  0.0945\n"
     ]
    }
   ],
   "source": [
    "ols_modelx1 = LinearRegression().fit(X1, y)\n",
    "regression_results(y, ols_modelx1.predict(X1))"
   ]
  },
  {
   "cell_type": "code",
   "execution_count": 860,
   "metadata": {},
   "outputs": [
    {
     "data": {
      "text/html": [
       "<div>\n",
       "<style scoped>\n",
       "    .dataframe tbody tr th:only-of-type {\n",
       "        vertical-align: middle;\n",
       "    }\n",
       "\n",
       "    .dataframe tbody tr th {\n",
       "        vertical-align: top;\n",
       "    }\n",
       "\n",
       "    .dataframe thead th {\n",
       "        text-align: right;\n",
       "    }\n",
       "</style>\n",
       "<table border=\"1\" class=\"dataframe\">\n",
       "  <thead>\n",
       "    <tr style=\"text-align: right;\">\n",
       "      <th></th>\n",
       "      <th>variable</th>\n",
       "      <th>coefficient</th>\n",
       "    </tr>\n",
       "  </thead>\n",
       "  <tbody>\n",
       "    <tr>\n",
       "      <th>0</th>\n",
       "      <td>sales_mil_log</td>\n",
       "      <td>-0.00176</td>\n",
       "    </tr>\n",
       "    <tr>\n",
       "      <th>1</th>\n",
       "      <td>sales_mil_log_sq</td>\n",
       "      <td>0.00021</td>\n",
       "    </tr>\n",
       "    <tr>\n",
       "      <th>2</th>\n",
       "      <td>d1_sales_mil_log_mod</td>\n",
       "      <td>-0.00761</td>\n",
       "    </tr>\n",
       "    <tr>\n",
       "      <th>3</th>\n",
       "      <td>Intercept</td>\n",
       "      <td>0.00132</td>\n",
       "    </tr>\n",
       "  </tbody>\n",
       "</table>\n",
       "</div>"
      ],
      "text/plain": [
       "               variable  coefficient\n",
       "0         sales_mil_log     -0.00176\n",
       "1      sales_mil_log_sq      0.00021\n",
       "2  d1_sales_mil_log_mod     -0.00761\n",
       "3             Intercept      0.00132"
      ]
     },
     "execution_count": 860,
     "metadata": {},
     "output_type": "execute_result"
    }
   ],
   "source": [
    "create_coef_matrix(X1, ols_modelx1)"
   ]
  },
  {
   "cell_type": "code",
   "execution_count": 861,
   "metadata": {},
   "outputs": [
    {
     "data": {
      "text/plain": [
       "year\n",
       "2014    27799\n",
       "2013    27770\n",
       "2015    27228\n",
       "2012    27221\n",
       "2011    26845\n",
       "2010    25596\n",
       "2009    24319\n",
       "2008    22502\n",
       "2007    20978\n",
       "2006    19324\n",
       "2005    18630\n",
       "Name: count, dtype: int64"
      ]
     },
     "execution_count": 861,
     "metadata": {},
     "output_type": "execute_result"
    }
   ],
   "source": [
    "data[\"year\"].value_counts()"
   ]
  },
  {
   "cell_type": "code",
   "execution_count": 862,
   "metadata": {},
   "outputs": [
    {
     "name": "stdout",
     "output_type": "stream",
     "text": [
      "explained_variance:  0.0\n",
      "r2:  -0.0092\n",
      "MAE:  0.0091\n",
      "MSE:  0.0091\n",
      "RMSE:  0.0954\n"
     ]
    }
   ],
   "source": [
    "glm_modelx1 = LogisticRegression(\n",
    "    solver=\"newton-cg\",max_iter=1000, penalty=\"none\", random_state = 20240205).fit(X1, y)\n",
    "regression_results(y, glm_modelx1.predict(X1))"
   ]
  },
  {
   "cell_type": "code",
   "execution_count": 863,
   "metadata": {},
   "outputs": [
    {
     "data": {
      "text/html": [
       "<div>\n",
       "<style scoped>\n",
       "    .dataframe tbody tr th:only-of-type {\n",
       "        vertical-align: middle;\n",
       "    }\n",
       "\n",
       "    .dataframe tbody tr th {\n",
       "        vertical-align: top;\n",
       "    }\n",
       "\n",
       "    .dataframe thead th {\n",
       "        text-align: right;\n",
       "    }\n",
       "</style>\n",
       "<table border=\"1\" class=\"dataframe\">\n",
       "  <thead>\n",
       "    <tr style=\"text-align: right;\">\n",
       "      <th></th>\n",
       "      <th>variable</th>\n",
       "      <th>coefficient</th>\n",
       "    </tr>\n",
       "  </thead>\n",
       "  <tbody>\n",
       "    <tr>\n",
       "      <th>0</th>\n",
       "      <td>sales_mil_log</td>\n",
       "      <td>-0.59450</td>\n",
       "    </tr>\n",
       "    <tr>\n",
       "      <th>1</th>\n",
       "      <td>sales_mil_log_sq</td>\n",
       "      <td>-0.03381</td>\n",
       "    </tr>\n",
       "    <tr>\n",
       "      <th>2</th>\n",
       "      <td>d1_sales_mil_log_mod</td>\n",
       "      <td>-0.60299</td>\n",
       "    </tr>\n",
       "    <tr>\n",
       "      <th>3</th>\n",
       "      <td>Intercept</td>\n",
       "      <td>-6.36595</td>\n",
       "    </tr>\n",
       "  </tbody>\n",
       "</table>\n",
       "</div>"
      ],
      "text/plain": [
       "               variable  coefficient\n",
       "0         sales_mil_log     -0.59450\n",
       "1      sales_mil_log_sq     -0.03381\n",
       "2  d1_sales_mil_log_mod     -0.60299\n",
       "3             Intercept     -6.36595"
      ]
     },
     "execution_count": 863,
     "metadata": {},
     "output_type": "execute_result"
    }
   ],
   "source": [
    "create_coef_matrix(X1, glm_modelx1)"
   ]
  },
  {
   "cell_type": "code",
   "execution_count": 864,
   "metadata": {},
   "outputs": [
    {
     "name": "stdout",
     "output_type": "stream",
     "text": [
      "explained_variance:  0.0\n",
      "r2:  -0.0092\n",
      "MAE:  0.0091\n",
      "MSE:  0.0091\n",
      "RMSE:  0.0954\n"
     ]
    }
   ],
   "source": [
    "glm_modelx2 = LogisticRegression(solver=\"newton-cg\", max_iter=1000, penalty=\"none\").fit(X2, y)\n",
    "regression_results(y, glm_modelx2.predict(X2))"
   ]
  },
  {
   "cell_type": "code",
   "execution_count": 865,
   "metadata": {},
   "outputs": [
    {
     "data": {
      "text/html": [
       "<div>\n",
       "<style scoped>\n",
       "    .dataframe tbody tr th:only-of-type {\n",
       "        vertical-align: middle;\n",
       "    }\n",
       "\n",
       "    .dataframe tbody tr th {\n",
       "        vertical-align: top;\n",
       "    }\n",
       "\n",
       "    .dataframe thead th {\n",
       "        text-align: right;\n",
       "    }\n",
       "</style>\n",
       "<table border=\"1\" class=\"dataframe\">\n",
       "  <thead>\n",
       "    <tr style=\"text-align: right;\">\n",
       "      <th></th>\n",
       "      <th>variable</th>\n",
       "      <th>coefficient</th>\n",
       "    </tr>\n",
       "  </thead>\n",
       "  <tbody>\n",
       "    <tr>\n",
       "      <th>0</th>\n",
       "      <td>sales_mil_log</td>\n",
       "      <td>-0.54227</td>\n",
       "    </tr>\n",
       "    <tr>\n",
       "      <th>1</th>\n",
       "      <td>sales_mil_log_sq</td>\n",
       "      <td>-0.02892</td>\n",
       "    </tr>\n",
       "    <tr>\n",
       "      <th>2</th>\n",
       "      <td>d1_sales_mil_log_mod</td>\n",
       "      <td>-0.61369</td>\n",
       "    </tr>\n",
       "    <tr>\n",
       "      <th>3</th>\n",
       "      <td>profit_loss_year_pl</td>\n",
       "      <td>-0.01759</td>\n",
       "    </tr>\n",
       "    <tr>\n",
       "      <th>4</th>\n",
       "      <td>fixed_assets_bs</td>\n",
       "      <td>-0.51483</td>\n",
       "    </tr>\n",
       "    <tr>\n",
       "      <th>5</th>\n",
       "      <td>share_eq_bs</td>\n",
       "      <td>-0.26009</td>\n",
       "    </tr>\n",
       "    <tr>\n",
       "      <th>6</th>\n",
       "      <td>curr_liab_bs</td>\n",
       "      <td>0.16933</td>\n",
       "    </tr>\n",
       "    <tr>\n",
       "      <th>7</th>\n",
       "      <td>curr_liab_bs_flag_high</td>\n",
       "      <td>0.25500</td>\n",
       "    </tr>\n",
       "    <tr>\n",
       "      <th>8</th>\n",
       "      <td>curr_liab_bs_flag_error</td>\n",
       "      <td>-0.23702</td>\n",
       "    </tr>\n",
       "    <tr>\n",
       "      <th>9</th>\n",
       "      <td>Intercept</td>\n",
       "      <td>-6.29660</td>\n",
       "    </tr>\n",
       "  </tbody>\n",
       "</table>\n",
       "</div>"
      ],
      "text/plain": [
       "                  variable  coefficient\n",
       "0            sales_mil_log     -0.54227\n",
       "1         sales_mil_log_sq     -0.02892\n",
       "2     d1_sales_mil_log_mod     -0.61369\n",
       "3      profit_loss_year_pl     -0.01759\n",
       "4          fixed_assets_bs     -0.51483\n",
       "5              share_eq_bs     -0.26009\n",
       "6             curr_liab_bs      0.16933\n",
       "7   curr_liab_bs_flag_high      0.25500\n",
       "8  curr_liab_bs_flag_error     -0.23702\n",
       "9                Intercept     -6.29660"
      ]
     },
     "execution_count": 865,
     "metadata": {},
     "output_type": "execute_result"
    }
   ],
   "source": [
    "create_coef_matrix(X2, glm_modelx2)"
   ]
  },
  {
   "cell_type": "code",
   "execution_count": 866,
   "metadata": {},
   "outputs": [
    {
     "name": "stdout",
     "output_type": "stream",
     "text": [
      "Optimization terminated successfully.\n",
      "         Current function value: 0.047340\n",
      "         Iterations 10\n",
      "        Logit Marginal Effects       \n",
      "=====================================\n",
      "Dep. Variable:                default\n",
      "Method:                          dydx\n",
      "At:                           overall\n",
      "===========================================================================================\n",
      "                             dy/dx    std err          z      P>|z|      [0.025      0.975]\n",
      "-------------------------------------------------------------------------------------------\n",
      "sales_mil_log              -0.0048      0.000    -17.187      0.000      -0.005      -0.004\n",
      "sales_mil_log_sq           -0.0003   2.67e-05     -9.646      0.000      -0.000      -0.000\n",
      "d1_sales_mil_log_mod       -0.0055      0.000    -16.494      0.000      -0.006      -0.005\n",
      "profit_loss_year_pl        -0.0002      0.000     -0.382      0.703      -0.001       0.001\n",
      "fixed_assets_bs            -0.0046      0.001     -8.157      0.000      -0.006      -0.003\n",
      "share_eq_bs                -0.0023      0.000     -5.665      0.000      -0.003      -0.002\n",
      "curr_liab_bs                0.0015      0.001      1.770      0.077      -0.000       0.003\n",
      "curr_liab_bs_flag_high      0.0023      0.001      3.129      0.002       0.001       0.004\n",
      "curr_liab_bs_flag_error    -0.0021      0.009     -0.236      0.814      -0.020       0.015\n",
      "foreign_management          0.0039      0.001      6.770      0.000       0.003       0.005\n",
      "===========================================================================================\n"
     ]
    }
   ],
   "source": [
    "mx2 = sm.Logit(y,sm.add_constant(X2)).fit().get_margeff()\n",
    "print(mx2.summary())"
   ]
  },
  {
   "cell_type": "code",
   "execution_count": 871,
   "metadata": {},
   "outputs": [
    {
     "name": "stdout",
     "output_type": "stream",
     "text": [
      "explained_variance:  0.018\n",
      "r2:  0.018\n",
      "MAE:  0.0196\n",
      "MSE:  0.0089\n",
      "RMSE:  0.0941\n"
     ]
    }
   ],
   "source": [
    "ols_model = LinearRegression().fit(X4, y)\n",
    "regression_results(y, ols_model.predict(X4))"
   ]
  },
  {
   "cell_type": "code",
   "execution_count": 872,
   "metadata": {},
   "outputs": [
    {
     "data": {
      "text/html": [
       "<div>\n",
       "<style scoped>\n",
       "    .dataframe tbody tr th:only-of-type {\n",
       "        vertical-align: middle;\n",
       "    }\n",
       "\n",
       "    .dataframe tbody tr th {\n",
       "        vertical-align: top;\n",
       "    }\n",
       "\n",
       "    .dataframe thead th {\n",
       "        text-align: right;\n",
       "    }\n",
       "</style>\n",
       "<table border=\"1\" class=\"dataframe\">\n",
       "  <thead>\n",
       "    <tr style=\"text-align: right;\">\n",
       "      <th></th>\n",
       "      <th>variable</th>\n",
       "      <th>coefficient</th>\n",
       "    </tr>\n",
       "  </thead>\n",
       "  <tbody>\n",
       "    <tr>\n",
       "      <th>0</th>\n",
       "      <td>sales_mil_log</td>\n",
       "      <td>-0.00122</td>\n",
       "    </tr>\n",
       "    <tr>\n",
       "      <th>1</th>\n",
       "      <td>sales_mil_log_sq</td>\n",
       "      <td>0.00013</td>\n",
       "    </tr>\n",
       "    <tr>\n",
       "      <th>2</th>\n",
       "      <td>total_assets_bs</td>\n",
       "      <td>0.00000</td>\n",
       "    </tr>\n",
       "    <tr>\n",
       "      <th>3</th>\n",
       "      <td>fixed_assets_bs</td>\n",
       "      <td>-0.01022</td>\n",
       "    </tr>\n",
       "    <tr>\n",
       "      <th>4</th>\n",
       "      <td>liq_assets_bs</td>\n",
       "      <td>0.00014</td>\n",
       "    </tr>\n",
       "    <tr>\n",
       "      <th>...</th>\n",
       "      <td>...</td>\n",
       "      <td>...</td>\n",
       "    </tr>\n",
       "    <tr>\n",
       "      <th>63</th>\n",
       "      <td>balsheet_length</td>\n",
       "      <td>0.00003</td>\n",
       "    </tr>\n",
       "    <tr>\n",
       "      <th>64</th>\n",
       "      <td>balsheet_notfullyear</td>\n",
       "      <td>0.01218</td>\n",
       "    </tr>\n",
       "    <tr>\n",
       "      <th>65</th>\n",
       "      <td>age</td>\n",
       "      <td>-0.00067</td>\n",
       "    </tr>\n",
       "    <tr>\n",
       "      <th>66</th>\n",
       "      <td>age2</td>\n",
       "      <td>0.00003</td>\n",
       "    </tr>\n",
       "    <tr>\n",
       "      <th>67</th>\n",
       "      <td>Intercept</td>\n",
       "      <td>0.00388</td>\n",
       "    </tr>\n",
       "  </tbody>\n",
       "</table>\n",
       "<p>68 rows × 2 columns</p>\n",
       "</div>"
      ],
      "text/plain": [
       "                variable  coefficient\n",
       "0          sales_mil_log     -0.00122\n",
       "1       sales_mil_log_sq      0.00013\n",
       "2        total_assets_bs      0.00000\n",
       "3        fixed_assets_bs     -0.01022\n",
       "4          liq_assets_bs      0.00014\n",
       "..                   ...          ...\n",
       "63       balsheet_length      0.00003\n",
       "64  balsheet_notfullyear      0.01218\n",
       "65                   age     -0.00067\n",
       "66                  age2      0.00003\n",
       "67             Intercept      0.00388\n",
       "\n",
       "[68 rows x 2 columns]"
      ]
     },
     "execution_count": 872,
     "metadata": {},
     "output_type": "execute_result"
    }
   ],
   "source": [
    "create_coef_matrix(X4, ols_model)"
   ]
  },
  {
   "cell_type": "code",
   "execution_count": 873,
   "metadata": {},
   "outputs": [
    {
     "name": "stdout",
     "output_type": "stream",
     "text": [
      "explained_variance:  0.0\n",
      "r2:  -0.0092\n",
      "MAE:  0.0091\n",
      "MSE:  0.0091\n",
      "RMSE:  0.0954\n"
     ]
    }
   ],
   "source": [
    "glm_model = LogisticRegression(solver=\"newton-cg\",max_iter=1000, penalty=\"none\").fit(X4, y)\n",
    "regression_results(y, glm_model.predict(X4))"
   ]
  },
  {
   "cell_type": "code",
   "execution_count": 874,
   "metadata": {},
   "outputs": [
    {
     "data": {
      "text/html": [
       "<div>\n",
       "<style scoped>\n",
       "    .dataframe tbody tr th:only-of-type {\n",
       "        vertical-align: middle;\n",
       "    }\n",
       "\n",
       "    .dataframe tbody tr th {\n",
       "        vertical-align: top;\n",
       "    }\n",
       "\n",
       "    .dataframe thead th {\n",
       "        text-align: right;\n",
       "    }\n",
       "</style>\n",
       "<table border=\"1\" class=\"dataframe\">\n",
       "  <thead>\n",
       "    <tr style=\"text-align: right;\">\n",
       "      <th></th>\n",
       "      <th>variable</th>\n",
       "      <th>coefficient</th>\n",
       "    </tr>\n",
       "  </thead>\n",
       "  <tbody>\n",
       "    <tr>\n",
       "      <th>0</th>\n",
       "      <td>sales_mil_log</td>\n",
       "      <td>0.00000</td>\n",
       "    </tr>\n",
       "    <tr>\n",
       "      <th>1</th>\n",
       "      <td>sales_mil_log_sq</td>\n",
       "      <td>-0.00000</td>\n",
       "    </tr>\n",
       "    <tr>\n",
       "      <th>2</th>\n",
       "      <td>total_assets_bs</td>\n",
       "      <td>-0.00000</td>\n",
       "    </tr>\n",
       "    <tr>\n",
       "      <th>3</th>\n",
       "      <td>fixed_assets_bs</td>\n",
       "      <td>-0.00000</td>\n",
       "    </tr>\n",
       "    <tr>\n",
       "      <th>4</th>\n",
       "      <td>liq_assets_bs</td>\n",
       "      <td>-0.00000</td>\n",
       "    </tr>\n",
       "    <tr>\n",
       "      <th>...</th>\n",
       "      <td>...</td>\n",
       "      <td>...</td>\n",
       "    </tr>\n",
       "    <tr>\n",
       "      <th>63</th>\n",
       "      <td>balsheet_length</td>\n",
       "      <td>-0.00000</td>\n",
       "    </tr>\n",
       "    <tr>\n",
       "      <th>64</th>\n",
       "      <td>balsheet_notfullyear</td>\n",
       "      <td>-0.00000</td>\n",
       "    </tr>\n",
       "    <tr>\n",
       "      <th>65</th>\n",
       "      <td>age</td>\n",
       "      <td>-0.00000</td>\n",
       "    </tr>\n",
       "    <tr>\n",
       "      <th>66</th>\n",
       "      <td>age2</td>\n",
       "      <td>-0.00000</td>\n",
       "    </tr>\n",
       "    <tr>\n",
       "      <th>67</th>\n",
       "      <td>Intercept</td>\n",
       "      <td>-0.00000</td>\n",
       "    </tr>\n",
       "  </tbody>\n",
       "</table>\n",
       "<p>68 rows × 2 columns</p>\n",
       "</div>"
      ],
      "text/plain": [
       "                variable  coefficient\n",
       "0          sales_mil_log      0.00000\n",
       "1       sales_mil_log_sq     -0.00000\n",
       "2        total_assets_bs     -0.00000\n",
       "3        fixed_assets_bs     -0.00000\n",
       "4          liq_assets_bs     -0.00000\n",
       "..                   ...          ...\n",
       "63       balsheet_length     -0.00000\n",
       "64  balsheet_notfullyear     -0.00000\n",
       "65                   age     -0.00000\n",
       "66                  age2     -0.00000\n",
       "67             Intercept     -0.00000\n",
       "\n",
       "[68 rows x 2 columns]"
      ]
     },
     "execution_count": 874,
     "metadata": {},
     "output_type": "execute_result"
    }
   ],
   "source": [
    "create_coef_matrix(X4, glm_model)"
   ]
  },
  {
   "cell_type": "code",
   "execution_count": 875,
   "metadata": {},
   "outputs": [
    {
     "name": "stdout",
     "output_type": "stream",
     "text": [
      "Warning: Maximum number of iterations has been exceeded.\n",
      "         Current function value: 0.044761\n",
      "         Iterations: 35\n"
     ]
    }
   ],
   "source": [
    "# Get marginal effects\n",
    "m = sm.Logit(y,sm.add_constant(X4)).fit().get_margeff()"
   ]
  },
  {
   "cell_type": "code",
   "execution_count": 876,
   "metadata": {},
   "outputs": [
    {
     "name": "stdout",
     "output_type": "stream",
     "text": [
      "        Logit Marginal Effects       \n",
      "=====================================\n",
      "Dep. Variable:                default\n",
      "Method:                          dydx\n",
      "At:                           overall\n",
      "==================================================================================================\n",
      "                                    dy/dx    std err          z      P>|z|      [0.025      0.975]\n",
      "--------------------------------------------------------------------------------------------------\n",
      "sales_mil_log                     -0.0043      0.000    -13.324      0.000      -0.005      -0.004\n",
      "sales_mil_log_sq                  -0.0002   3.06e-05     -7.863      0.000      -0.000      -0.000\n",
      "total_assets_bs                 3.672e-12   4.05e-12      0.908      0.364   -4.26e-12    1.16e-11\n",
      "fixed_assets_bs                   -0.0093      0.005     -2.041      0.041      -0.018      -0.000\n",
      "liq_assets_bs                      0.0004      0.001      0.548      0.584      -0.001       0.002\n",
      "curr_assets_bs                    -0.0061      0.005     -1.323      0.186      -0.015       0.003\n",
      "share_eq_bs                    -6.411e-05      0.001     -0.092      0.927      -0.001       0.001\n",
      "subscribed_cap_bs                  0.0003      0.001      0.342      0.732      -0.001       0.002\n",
      "intang_assets_bs                   0.0015      0.006      0.247      0.805      -0.010       0.013\n",
      "extra_exp_pl                       0.0186      0.008      2.224      0.026       0.002       0.035\n",
      "extra_inc_pl                       0.0109      0.009      1.239      0.215      -0.006       0.028\n",
      "extra_profit_loss_pl              -0.0035      0.008     -0.437      0.662      -0.019       0.012\n",
      "inc_bef_tax_pl                    -0.0011      0.003     -0.397      0.691      -0.006       0.004\n",
      "inventories_pl                    -0.0118      0.002     -6.758      0.000      -0.015      -0.008\n",
      "material_exp_pl                    0.0021      0.001      2.111      0.035       0.000       0.004\n",
      "profit_loss_year_pl                0.0039      0.003      1.460      0.144      -0.001       0.009\n",
      "personnel_exp_pl                   0.0003      0.001      0.308      0.758      -0.002       0.002\n",
      "d1_sales_mil_log_mod              -0.0036      0.001     -7.118      0.000      -0.005      -0.003\n",
      "d1_sales_mil_log_mod_sq            0.0044      0.001      8.298      0.000       0.003       0.005\n",
      "flag_low_d1_sales_mil_log         -0.0047      0.001     -4.674      0.000      -0.007      -0.003\n",
      "flag_high_d1_sales_mil_log        -0.0004      0.002     -0.209      0.834      -0.004       0.003\n",
      "extra_profit_loss_pl_quad         -0.0130      0.008     -1.720      0.085      -0.028       0.002\n",
      "inc_bef_tax_pl_quad                0.0020      0.003      0.597      0.551      -0.005       0.009\n",
      "profit_loss_year_pl_quad           0.0039      0.004      1.071      0.284      -0.003       0.011\n",
      "share_eq_bs_quad                  -0.0017      0.001     -1.880      0.060      -0.003    7.16e-05\n",
      "extra_exp_pl_flag_high            -0.0113      0.010     -1.189      0.234      -0.030       0.007\n",
      "extra_inc_pl_flag_high            -0.0124      0.010     -1.203      0.229      -0.032       0.008\n",
      "inventories_pl_flag_high           0.0096      0.002      5.160      0.000       0.006       0.013\n",
      "material_exp_pl_flag_high         -0.0002      0.001     -0.374      0.708      -0.001       0.001\n",
      "personnel_exp_pl_flag_high         0.0008      0.001      0.891      0.373      -0.001       0.003\n",
      "curr_liab_bs_flag_high             0.0028      0.001      4.518      0.000       0.002       0.004\n",
      "liq_assets_bs_flag_high           -0.1448     30.405     -0.005      0.996     -59.737      59.447\n",
      "subscribed_cap_bs_flag_high        0.0018      0.001      2.529      0.011       0.000       0.003\n",
      "extra_exp_pl_flag_error           -0.0902      1.457     -0.062      0.951      -2.947       2.766\n",
      "extra_inc_pl_flag_error            0.0142      0.007      2.147      0.032       0.001       0.027\n",
      "inventories_pl_flag_error          0.0055      0.010      0.549      0.583      -0.014       0.025\n",
      "material_exp_pl_flag_error        -0.0074      0.011     -0.650      0.516      -0.030       0.015\n",
      "personnel_exp_pl_flag_error        0.0096      0.009      1.104      0.269      -0.007       0.027\n",
      "curr_liab_bs_flag_error           -0.0039      0.009     -0.434      0.664      -0.021       0.014\n",
      "liq_assets_bs_flag_error           0.0061      0.003      1.939      0.053   -6.68e-05       0.012\n",
      "subscribed_cap_bs_flag_error      -0.0967      9.221     -0.010      0.992     -18.170      17.977\n",
      "extra_profit_loss_pl_flag_low      0.0090      0.012      0.742      0.458      -0.015       0.033\n",
      "inc_bef_tax_pl_flag_low           -0.0027      0.005     -0.527      0.598      -0.013       0.007\n",
      "profit_loss_year_pl_flag_low      -0.0010      0.005     -0.202      0.840      -0.011       0.009\n",
      "share_eq_bs_flag_low               0.0046      0.001      3.720      0.000       0.002       0.007\n",
      "extra_profit_loss_pl_flag_high     0.0185      0.012      1.504      0.132      -0.006       0.043\n",
      "inc_bef_tax_pl_flag_high        6.452e-05      0.004      0.017      0.986      -0.007       0.007\n",
      "profit_loss_year_pl_flag_high     -0.0054      0.004     -1.340      0.180      -0.013       0.002\n",
      "share_eq_bs_flag_high              0.0006      0.002      0.326      0.744      -0.003       0.004\n",
      "extra_profit_loss_pl_flag_zero     0.0036      0.001      4.647      0.000       0.002       0.005\n",
      "inc_bef_tax_pl_flag_zero           0.0040      0.003      1.283      0.199      -0.002       0.010\n",
      "profit_loss_year_pl_flag_zero     -0.0020      0.002     -1.187      0.235      -0.005       0.001\n",
      "share_eq_bs_flag_zero              0.0003      0.005      0.059      0.953      -0.009       0.009\n",
      "female                             0.0003      0.000      0.742      0.458      -0.001       0.001\n",
      "ceo_age                        -1.031e-05   1.98e-05     -0.522      0.602    -4.9e-05    2.84e-05\n",
      "flag_high_ceo_age                  0.0054      0.002      2.640      0.008       0.001       0.009\n",
      "flag_low_ceo_age                   0.0026      0.001      2.002      0.045    5.51e-05       0.005\n",
      "flag_miss_ceo_age                 -0.0115      0.001    -18.706      0.000      -0.013      -0.010\n",
      "ceo_count                         -0.0021      0.000     -4.990      0.000      -0.003      -0.001\n",
      "labor_avg_mod                      0.0007      0.000      5.536      0.000       0.000       0.001\n",
      "flag_miss_labor_avg               -0.0042      0.000     -9.473      0.000      -0.005      -0.003\n",
      "foreign_management                 0.0084      0.001     12.660      0.000       0.007       0.010\n",
      "balsheet_flag                      0.0097      0.002      5.148      0.000       0.006       0.013\n",
      "balsheet_length                 9.676e-06   4.54e-06      2.130      0.033    7.72e-07    1.86e-05\n",
      "balsheet_notfullyear               0.0087      0.001      9.004      0.000       0.007       0.011\n",
      "age                               -0.0004   8.84e-05     -4.318      0.000      -0.001      -0.000\n",
      "age2                            1.528e-05   3.53e-06      4.335      0.000    8.37e-06    2.22e-05\n",
      "new                               -0.0002      0.001     -0.303      0.762      -0.002       0.001\n",
      "==================================================================================================\n"
     ]
    }
   ],
   "source": [
    "print(m.summary())"
   ]
  },
  {
   "cell_type": "code",
   "execution_count": 877,
   "metadata": {},
   "outputs": [
    {
     "data": {
      "text/html": [
       "<table class=\"simpletable\">\n",
       "<tr>\n",
       "                 <th></th>                   <th>dy/dx</th>    <th>std err</th>      <th>z</th>      <th>P>|z|</th>  <th>[0.025</th>    <th>0.975]</th>  \n",
       "</tr>\n",
       "<tr>\n",
       "  <th>sales_mil_log</th>                  <td>   -0.0043</td> <td>    0.000</td> <td>  -13.324</td> <td> 0.000</td> <td>   -0.005</td> <td>   -0.004</td>\n",
       "</tr>\n",
       "<tr>\n",
       "  <th>sales_mil_log_sq</th>               <td>   -0.0002</td> <td> 3.06e-05</td> <td>   -7.863</td> <td> 0.000</td> <td>   -0.000</td> <td>   -0.000</td>\n",
       "</tr>\n",
       "<tr>\n",
       "  <th>total_assets_bs</th>                <td> 3.672e-12</td> <td> 4.05e-12</td> <td>    0.908</td> <td> 0.364</td> <td>-4.26e-12</td> <td> 1.16e-11</td>\n",
       "</tr>\n",
       "<tr>\n",
       "  <th>fixed_assets_bs</th>                <td>   -0.0093</td> <td>    0.005</td> <td>   -2.041</td> <td> 0.041</td> <td>   -0.018</td> <td>   -0.000</td>\n",
       "</tr>\n",
       "<tr>\n",
       "  <th>liq_assets_bs</th>                  <td>    0.0004</td> <td>    0.001</td> <td>    0.548</td> <td> 0.584</td> <td>   -0.001</td> <td>    0.002</td>\n",
       "</tr>\n",
       "<tr>\n",
       "  <th>curr_assets_bs</th>                 <td>   -0.0061</td> <td>    0.005</td> <td>   -1.323</td> <td> 0.186</td> <td>   -0.015</td> <td>    0.003</td>\n",
       "</tr>\n",
       "<tr>\n",
       "  <th>share_eq_bs</th>                    <td>-6.411e-05</td> <td>    0.001</td> <td>   -0.092</td> <td> 0.927</td> <td>   -0.001</td> <td>    0.001</td>\n",
       "</tr>\n",
       "<tr>\n",
       "  <th>subscribed_cap_bs</th>              <td>    0.0003</td> <td>    0.001</td> <td>    0.342</td> <td> 0.732</td> <td>   -0.001</td> <td>    0.002</td>\n",
       "</tr>\n",
       "<tr>\n",
       "  <th>intang_assets_bs</th>               <td>    0.0015</td> <td>    0.006</td> <td>    0.247</td> <td> 0.805</td> <td>   -0.010</td> <td>    0.013</td>\n",
       "</tr>\n",
       "<tr>\n",
       "  <th>extra_exp_pl</th>                   <td>    0.0186</td> <td>    0.008</td> <td>    2.224</td> <td> 0.026</td> <td>    0.002</td> <td>    0.035</td>\n",
       "</tr>\n",
       "<tr>\n",
       "  <th>extra_inc_pl</th>                   <td>    0.0109</td> <td>    0.009</td> <td>    1.239</td> <td> 0.215</td> <td>   -0.006</td> <td>    0.028</td>\n",
       "</tr>\n",
       "<tr>\n",
       "  <th>extra_profit_loss_pl</th>           <td>   -0.0035</td> <td>    0.008</td> <td>   -0.437</td> <td> 0.662</td> <td>   -0.019</td> <td>    0.012</td>\n",
       "</tr>\n",
       "<tr>\n",
       "  <th>inc_bef_tax_pl</th>                 <td>   -0.0011</td> <td>    0.003</td> <td>   -0.397</td> <td> 0.691</td> <td>   -0.006</td> <td>    0.004</td>\n",
       "</tr>\n",
       "<tr>\n",
       "  <th>inventories_pl</th>                 <td>   -0.0118</td> <td>    0.002</td> <td>   -6.758</td> <td> 0.000</td> <td>   -0.015</td> <td>   -0.008</td>\n",
       "</tr>\n",
       "<tr>\n",
       "  <th>material_exp_pl</th>                <td>    0.0021</td> <td>    0.001</td> <td>    2.111</td> <td> 0.035</td> <td>    0.000</td> <td>    0.004</td>\n",
       "</tr>\n",
       "<tr>\n",
       "  <th>profit_loss_year_pl</th>            <td>    0.0039</td> <td>    0.003</td> <td>    1.460</td> <td> 0.144</td> <td>   -0.001</td> <td>    0.009</td>\n",
       "</tr>\n",
       "<tr>\n",
       "  <th>personnel_exp_pl</th>               <td>    0.0003</td> <td>    0.001</td> <td>    0.308</td> <td> 0.758</td> <td>   -0.002</td> <td>    0.002</td>\n",
       "</tr>\n",
       "<tr>\n",
       "  <th>d1_sales_mil_log_mod</th>           <td>   -0.0036</td> <td>    0.001</td> <td>   -7.118</td> <td> 0.000</td> <td>   -0.005</td> <td>   -0.003</td>\n",
       "</tr>\n",
       "<tr>\n",
       "  <th>d1_sales_mil_log_mod_sq</th>        <td>    0.0044</td> <td>    0.001</td> <td>    8.298</td> <td> 0.000</td> <td>    0.003</td> <td>    0.005</td>\n",
       "</tr>\n",
       "<tr>\n",
       "  <th>flag_low_d1_sales_mil_log</th>      <td>   -0.0047</td> <td>    0.001</td> <td>   -4.674</td> <td> 0.000</td> <td>   -0.007</td> <td>   -0.003</td>\n",
       "</tr>\n",
       "<tr>\n",
       "  <th>flag_high_d1_sales_mil_log</th>     <td>   -0.0004</td> <td>    0.002</td> <td>   -0.209</td> <td> 0.834</td> <td>   -0.004</td> <td>    0.003</td>\n",
       "</tr>\n",
       "<tr>\n",
       "  <th>extra_profit_loss_pl_quad</th>      <td>   -0.0130</td> <td>    0.008</td> <td>   -1.720</td> <td> 0.085</td> <td>   -0.028</td> <td>    0.002</td>\n",
       "</tr>\n",
       "<tr>\n",
       "  <th>inc_bef_tax_pl_quad</th>            <td>    0.0020</td> <td>    0.003</td> <td>    0.597</td> <td> 0.551</td> <td>   -0.005</td> <td>    0.009</td>\n",
       "</tr>\n",
       "<tr>\n",
       "  <th>profit_loss_year_pl_quad</th>       <td>    0.0039</td> <td>    0.004</td> <td>    1.071</td> <td> 0.284</td> <td>   -0.003</td> <td>    0.011</td>\n",
       "</tr>\n",
       "<tr>\n",
       "  <th>share_eq_bs_quad</th>               <td>   -0.0017</td> <td>    0.001</td> <td>   -1.880</td> <td> 0.060</td> <td>   -0.003</td> <td> 7.16e-05</td>\n",
       "</tr>\n",
       "<tr>\n",
       "  <th>extra_exp_pl_flag_high</th>         <td>   -0.0113</td> <td>    0.010</td> <td>   -1.189</td> <td> 0.234</td> <td>   -0.030</td> <td>    0.007</td>\n",
       "</tr>\n",
       "<tr>\n",
       "  <th>extra_inc_pl_flag_high</th>         <td>   -0.0124</td> <td>    0.010</td> <td>   -1.203</td> <td> 0.229</td> <td>   -0.032</td> <td>    0.008</td>\n",
       "</tr>\n",
       "<tr>\n",
       "  <th>inventories_pl_flag_high</th>       <td>    0.0096</td> <td>    0.002</td> <td>    5.160</td> <td> 0.000</td> <td>    0.006</td> <td>    0.013</td>\n",
       "</tr>\n",
       "<tr>\n",
       "  <th>material_exp_pl_flag_high</th>      <td>   -0.0002</td> <td>    0.001</td> <td>   -0.374</td> <td> 0.708</td> <td>   -0.001</td> <td>    0.001</td>\n",
       "</tr>\n",
       "<tr>\n",
       "  <th>personnel_exp_pl_flag_high</th>     <td>    0.0008</td> <td>    0.001</td> <td>    0.891</td> <td> 0.373</td> <td>   -0.001</td> <td>    0.003</td>\n",
       "</tr>\n",
       "<tr>\n",
       "  <th>curr_liab_bs_flag_high</th>         <td>    0.0028</td> <td>    0.001</td> <td>    4.518</td> <td> 0.000</td> <td>    0.002</td> <td>    0.004</td>\n",
       "</tr>\n",
       "<tr>\n",
       "  <th>liq_assets_bs_flag_high</th>        <td>   -0.1448</td> <td>   30.405</td> <td>   -0.005</td> <td> 0.996</td> <td>  -59.737</td> <td>   59.447</td>\n",
       "</tr>\n",
       "<tr>\n",
       "  <th>subscribed_cap_bs_flag_high</th>    <td>    0.0018</td> <td>    0.001</td> <td>    2.529</td> <td> 0.011</td> <td>    0.000</td> <td>    0.003</td>\n",
       "</tr>\n",
       "<tr>\n",
       "  <th>extra_exp_pl_flag_error</th>        <td>   -0.0902</td> <td>    1.457</td> <td>   -0.062</td> <td> 0.951</td> <td>   -2.947</td> <td>    2.766</td>\n",
       "</tr>\n",
       "<tr>\n",
       "  <th>extra_inc_pl_flag_error</th>        <td>    0.0142</td> <td>    0.007</td> <td>    2.147</td> <td> 0.032</td> <td>    0.001</td> <td>    0.027</td>\n",
       "</tr>\n",
       "<tr>\n",
       "  <th>inventories_pl_flag_error</th>      <td>    0.0055</td> <td>    0.010</td> <td>    0.549</td> <td> 0.583</td> <td>   -0.014</td> <td>    0.025</td>\n",
       "</tr>\n",
       "<tr>\n",
       "  <th>material_exp_pl_flag_error</th>     <td>   -0.0074</td> <td>    0.011</td> <td>   -0.650</td> <td> 0.516</td> <td>   -0.030</td> <td>    0.015</td>\n",
       "</tr>\n",
       "<tr>\n",
       "  <th>personnel_exp_pl_flag_error</th>    <td>    0.0096</td> <td>    0.009</td> <td>    1.104</td> <td> 0.269</td> <td>   -0.007</td> <td>    0.027</td>\n",
       "</tr>\n",
       "<tr>\n",
       "  <th>curr_liab_bs_flag_error</th>        <td>   -0.0039</td> <td>    0.009</td> <td>   -0.434</td> <td> 0.664</td> <td>   -0.021</td> <td>    0.014</td>\n",
       "</tr>\n",
       "<tr>\n",
       "  <th>liq_assets_bs_flag_error</th>       <td>    0.0061</td> <td>    0.003</td> <td>    1.939</td> <td> 0.053</td> <td>-6.68e-05</td> <td>    0.012</td>\n",
       "</tr>\n",
       "<tr>\n",
       "  <th>subscribed_cap_bs_flag_error</th>   <td>   -0.0967</td> <td>    9.221</td> <td>   -0.010</td> <td> 0.992</td> <td>  -18.170</td> <td>   17.977</td>\n",
       "</tr>\n",
       "<tr>\n",
       "  <th>extra_profit_loss_pl_flag_low</th>  <td>    0.0090</td> <td>    0.012</td> <td>    0.742</td> <td> 0.458</td> <td>   -0.015</td> <td>    0.033</td>\n",
       "</tr>\n",
       "<tr>\n",
       "  <th>inc_bef_tax_pl_flag_low</th>        <td>   -0.0027</td> <td>    0.005</td> <td>   -0.527</td> <td> 0.598</td> <td>   -0.013</td> <td>    0.007</td>\n",
       "</tr>\n",
       "<tr>\n",
       "  <th>profit_loss_year_pl_flag_low</th>   <td>   -0.0010</td> <td>    0.005</td> <td>   -0.202</td> <td> 0.840</td> <td>   -0.011</td> <td>    0.009</td>\n",
       "</tr>\n",
       "<tr>\n",
       "  <th>share_eq_bs_flag_low</th>           <td>    0.0046</td> <td>    0.001</td> <td>    3.720</td> <td> 0.000</td> <td>    0.002</td> <td>    0.007</td>\n",
       "</tr>\n",
       "<tr>\n",
       "  <th>extra_profit_loss_pl_flag_high</th> <td>    0.0185</td> <td>    0.012</td> <td>    1.504</td> <td> 0.132</td> <td>   -0.006</td> <td>    0.043</td>\n",
       "</tr>\n",
       "<tr>\n",
       "  <th>inc_bef_tax_pl_flag_high</th>       <td> 6.452e-05</td> <td>    0.004</td> <td>    0.017</td> <td> 0.986</td> <td>   -0.007</td> <td>    0.007</td>\n",
       "</tr>\n",
       "<tr>\n",
       "  <th>profit_loss_year_pl_flag_high</th>  <td>   -0.0054</td> <td>    0.004</td> <td>   -1.340</td> <td> 0.180</td> <td>   -0.013</td> <td>    0.002</td>\n",
       "</tr>\n",
       "<tr>\n",
       "  <th>share_eq_bs_flag_high</th>          <td>    0.0006</td> <td>    0.002</td> <td>    0.326</td> <td> 0.744</td> <td>   -0.003</td> <td>    0.004</td>\n",
       "</tr>\n",
       "<tr>\n",
       "  <th>extra_profit_loss_pl_flag_zero</th> <td>    0.0036</td> <td>    0.001</td> <td>    4.647</td> <td> 0.000</td> <td>    0.002</td> <td>    0.005</td>\n",
       "</tr>\n",
       "<tr>\n",
       "  <th>inc_bef_tax_pl_flag_zero</th>       <td>    0.0040</td> <td>    0.003</td> <td>    1.283</td> <td> 0.199</td> <td>   -0.002</td> <td>    0.010</td>\n",
       "</tr>\n",
       "<tr>\n",
       "  <th>profit_loss_year_pl_flag_zero</th>  <td>   -0.0020</td> <td>    0.002</td> <td>   -1.187</td> <td> 0.235</td> <td>   -0.005</td> <td>    0.001</td>\n",
       "</tr>\n",
       "<tr>\n",
       "  <th>share_eq_bs_flag_zero</th>          <td>    0.0003</td> <td>    0.005</td> <td>    0.059</td> <td> 0.953</td> <td>   -0.009</td> <td>    0.009</td>\n",
       "</tr>\n",
       "<tr>\n",
       "  <th>female</th>                         <td>    0.0003</td> <td>    0.000</td> <td>    0.742</td> <td> 0.458</td> <td>   -0.001</td> <td>    0.001</td>\n",
       "</tr>\n",
       "<tr>\n",
       "  <th>ceo_age</th>                        <td>-1.031e-05</td> <td> 1.98e-05</td> <td>   -0.522</td> <td> 0.602</td> <td> -4.9e-05</td> <td> 2.84e-05</td>\n",
       "</tr>\n",
       "<tr>\n",
       "  <th>flag_high_ceo_age</th>              <td>    0.0054</td> <td>    0.002</td> <td>    2.640</td> <td> 0.008</td> <td>    0.001</td> <td>    0.009</td>\n",
       "</tr>\n",
       "<tr>\n",
       "  <th>flag_low_ceo_age</th>               <td>    0.0026</td> <td>    0.001</td> <td>    2.002</td> <td> 0.045</td> <td> 5.51e-05</td> <td>    0.005</td>\n",
       "</tr>\n",
       "<tr>\n",
       "  <th>flag_miss_ceo_age</th>              <td>   -0.0115</td> <td>    0.001</td> <td>  -18.706</td> <td> 0.000</td> <td>   -0.013</td> <td>   -0.010</td>\n",
       "</tr>\n",
       "<tr>\n",
       "  <th>ceo_count</th>                      <td>   -0.0021</td> <td>    0.000</td> <td>   -4.990</td> <td> 0.000</td> <td>   -0.003</td> <td>   -0.001</td>\n",
       "</tr>\n",
       "<tr>\n",
       "  <th>labor_avg_mod</th>                  <td>    0.0007</td> <td>    0.000</td> <td>    5.536</td> <td> 0.000</td> <td>    0.000</td> <td>    0.001</td>\n",
       "</tr>\n",
       "<tr>\n",
       "  <th>flag_miss_labor_avg</th>            <td>   -0.0042</td> <td>    0.000</td> <td>   -9.473</td> <td> 0.000</td> <td>   -0.005</td> <td>   -0.003</td>\n",
       "</tr>\n",
       "<tr>\n",
       "  <th>foreign_management</th>             <td>    0.0084</td> <td>    0.001</td> <td>   12.660</td> <td> 0.000</td> <td>    0.007</td> <td>    0.010</td>\n",
       "</tr>\n",
       "<tr>\n",
       "  <th>balsheet_flag</th>                  <td>    0.0097</td> <td>    0.002</td> <td>    5.148</td> <td> 0.000</td> <td>    0.006</td> <td>    0.013</td>\n",
       "</tr>\n",
       "<tr>\n",
       "  <th>balsheet_length</th>                <td> 9.676e-06</td> <td> 4.54e-06</td> <td>    2.130</td> <td> 0.033</td> <td> 7.72e-07</td> <td> 1.86e-05</td>\n",
       "</tr>\n",
       "<tr>\n",
       "  <th>balsheet_notfullyear</th>           <td>    0.0087</td> <td>    0.001</td> <td>    9.004</td> <td> 0.000</td> <td>    0.007</td> <td>    0.011</td>\n",
       "</tr>\n",
       "<tr>\n",
       "  <th>age</th>                            <td>   -0.0004</td> <td> 8.84e-05</td> <td>   -4.318</td> <td> 0.000</td> <td>   -0.001</td> <td>   -0.000</td>\n",
       "</tr>\n",
       "<tr>\n",
       "  <th>age2</th>                           <td> 1.528e-05</td> <td> 3.53e-06</td> <td>    4.335</td> <td> 0.000</td> <td> 8.37e-06</td> <td> 2.22e-05</td>\n",
       "</tr>\n",
       "<tr>\n",
       "  <th>new</th>                            <td>   -0.0002</td> <td>    0.001</td> <td>   -0.303</td> <td> 0.762</td> <td>   -0.002</td> <td>    0.001</td>\n",
       "</tr>\n",
       "</table>"
      ],
      "text/latex": [
       "\\begin{center}\n",
       "\\begin{tabular}{ccccccc}\n",
       "\\toprule\n",
       "                 \\textbf{}                   & \\textbf{dy/dx} & \\textbf{std err} & \\textbf{z} & \\textbf{P$> |$z$|$} & \\textbf{[0.025} & \\textbf{0.975]}  \\\\\n",
       "\\midrule\n",
       "\\bottomrule\n",
       "\\end{tabular}\n",
       "\\begin{tabular}{lcccccc}\n",
       "\\textbf{sales\\_mil\\_log}                     &      -0.0043   &        0.000     &   -13.324  &         0.000        &       -0.005    &       -0.004     \\\\\n",
       "\\textbf{sales\\_mil\\_log\\_sq}                 &      -0.0002   &     3.06e-05     &    -7.863  &         0.000        &       -0.000    &       -0.000     \\\\\n",
       "\\textbf{total\\_assets\\_bs}                   &    3.672e-12   &     4.05e-12     &     0.908  &         0.364        &    -4.26e-12    &     1.16e-11     \\\\\n",
       "\\textbf{fixed\\_assets\\_bs}                   &      -0.0093   &        0.005     &    -2.041  &         0.041        &       -0.018    &       -0.000     \\\\\n",
       "\\textbf{liq\\_assets\\_bs}                     &       0.0004   &        0.001     &     0.548  &         0.584        &       -0.001    &        0.002     \\\\\n",
       "\\textbf{curr\\_assets\\_bs}                    &      -0.0061   &        0.005     &    -1.323  &         0.186        &       -0.015    &        0.003     \\\\\n",
       "\\textbf{share\\_eq\\_bs}                       &   -6.411e-05   &        0.001     &    -0.092  &         0.927        &       -0.001    &        0.001     \\\\\n",
       "\\textbf{subscribed\\_cap\\_bs}                 &       0.0003   &        0.001     &     0.342  &         0.732        &       -0.001    &        0.002     \\\\\n",
       "\\textbf{intang\\_assets\\_bs}                  &       0.0015   &        0.006     &     0.247  &         0.805        &       -0.010    &        0.013     \\\\\n",
       "\\textbf{extra\\_exp\\_pl}                      &       0.0186   &        0.008     &     2.224  &         0.026        &        0.002    &        0.035     \\\\\n",
       "\\textbf{extra\\_inc\\_pl}                      &       0.0109   &        0.009     &     1.239  &         0.215        &       -0.006    &        0.028     \\\\\n",
       "\\textbf{extra\\_profit\\_loss\\_pl}             &      -0.0035   &        0.008     &    -0.437  &         0.662        &       -0.019    &        0.012     \\\\\n",
       "\\textbf{inc\\_bef\\_tax\\_pl}                   &      -0.0011   &        0.003     &    -0.397  &         0.691        &       -0.006    &        0.004     \\\\\n",
       "\\textbf{inventories\\_pl}                     &      -0.0118   &        0.002     &    -6.758  &         0.000        &       -0.015    &       -0.008     \\\\\n",
       "\\textbf{material\\_exp\\_pl}                   &       0.0021   &        0.001     &     2.111  &         0.035        &        0.000    &        0.004     \\\\\n",
       "\\textbf{profit\\_loss\\_year\\_pl}              &       0.0039   &        0.003     &     1.460  &         0.144        &       -0.001    &        0.009     \\\\\n",
       "\\textbf{personnel\\_exp\\_pl}                  &       0.0003   &        0.001     &     0.308  &         0.758        &       -0.002    &        0.002     \\\\\n",
       "\\textbf{d1\\_sales\\_mil\\_log\\_mod}            &      -0.0036   &        0.001     &    -7.118  &         0.000        &       -0.005    &       -0.003     \\\\\n",
       "\\textbf{d1\\_sales\\_mil\\_log\\_mod\\_sq}        &       0.0044   &        0.001     &     8.298  &         0.000        &        0.003    &        0.005     \\\\\n",
       "\\textbf{flag\\_low\\_d1\\_sales\\_mil\\_log}      &      -0.0047   &        0.001     &    -4.674  &         0.000        &       -0.007    &       -0.003     \\\\\n",
       "\\textbf{flag\\_high\\_d1\\_sales\\_mil\\_log}     &      -0.0004   &        0.002     &    -0.209  &         0.834        &       -0.004    &        0.003     \\\\\n",
       "\\textbf{extra\\_profit\\_loss\\_pl\\_quad}       &      -0.0130   &        0.008     &    -1.720  &         0.085        &       -0.028    &        0.002     \\\\\n",
       "\\textbf{inc\\_bef\\_tax\\_pl\\_quad}             &       0.0020   &        0.003     &     0.597  &         0.551        &       -0.005    &        0.009     \\\\\n",
       "\\textbf{profit\\_loss\\_year\\_pl\\_quad}        &       0.0039   &        0.004     &     1.071  &         0.284        &       -0.003    &        0.011     \\\\\n",
       "\\textbf{share\\_eq\\_bs\\_quad}                 &      -0.0017   &        0.001     &    -1.880  &         0.060        &       -0.003    &     7.16e-05     \\\\\n",
       "\\textbf{extra\\_exp\\_pl\\_flag\\_high}          &      -0.0113   &        0.010     &    -1.189  &         0.234        &       -0.030    &        0.007     \\\\\n",
       "\\textbf{extra\\_inc\\_pl\\_flag\\_high}          &      -0.0124   &        0.010     &    -1.203  &         0.229        &       -0.032    &        0.008     \\\\\n",
       "\\textbf{inventories\\_pl\\_flag\\_high}         &       0.0096   &        0.002     &     5.160  &         0.000        &        0.006    &        0.013     \\\\\n",
       "\\textbf{material\\_exp\\_pl\\_flag\\_high}       &      -0.0002   &        0.001     &    -0.374  &         0.708        &       -0.001    &        0.001     \\\\\n",
       "\\textbf{personnel\\_exp\\_pl\\_flag\\_high}      &       0.0008   &        0.001     &     0.891  &         0.373        &       -0.001    &        0.003     \\\\\n",
       "\\textbf{curr\\_liab\\_bs\\_flag\\_high}          &       0.0028   &        0.001     &     4.518  &         0.000        &        0.002    &        0.004     \\\\\n",
       "\\textbf{liq\\_assets\\_bs\\_flag\\_high}         &      -0.1448   &       30.405     &    -0.005  &         0.996        &      -59.737    &       59.447     \\\\\n",
       "\\textbf{subscribed\\_cap\\_bs\\_flag\\_high}     &       0.0018   &        0.001     &     2.529  &         0.011        &        0.000    &        0.003     \\\\\n",
       "\\textbf{extra\\_exp\\_pl\\_flag\\_error}         &      -0.0902   &        1.457     &    -0.062  &         0.951        &       -2.947    &        2.766     \\\\\n",
       "\\textbf{extra\\_inc\\_pl\\_flag\\_error}         &       0.0142   &        0.007     &     2.147  &         0.032        &        0.001    &        0.027     \\\\\n",
       "\\textbf{inventories\\_pl\\_flag\\_error}        &       0.0055   &        0.010     &     0.549  &         0.583        &       -0.014    &        0.025     \\\\\n",
       "\\textbf{material\\_exp\\_pl\\_flag\\_error}      &      -0.0074   &        0.011     &    -0.650  &         0.516        &       -0.030    &        0.015     \\\\\n",
       "\\textbf{personnel\\_exp\\_pl\\_flag\\_error}     &       0.0096   &        0.009     &     1.104  &         0.269        &       -0.007    &        0.027     \\\\\n",
       "\\textbf{curr\\_liab\\_bs\\_flag\\_error}         &      -0.0039   &        0.009     &    -0.434  &         0.664        &       -0.021    &        0.014     \\\\\n",
       "\\textbf{liq\\_assets\\_bs\\_flag\\_error}        &       0.0061   &        0.003     &     1.939  &         0.053        &    -6.68e-05    &        0.012     \\\\\n",
       "\\textbf{subscribed\\_cap\\_bs\\_flag\\_error}    &      -0.0967   &        9.221     &    -0.010  &         0.992        &      -18.170    &       17.977     \\\\\n",
       "\\textbf{extra\\_profit\\_loss\\_pl\\_flag\\_low}  &       0.0090   &        0.012     &     0.742  &         0.458        &       -0.015    &        0.033     \\\\\n",
       "\\textbf{inc\\_bef\\_tax\\_pl\\_flag\\_low}        &      -0.0027   &        0.005     &    -0.527  &         0.598        &       -0.013    &        0.007     \\\\\n",
       "\\textbf{profit\\_loss\\_year\\_pl\\_flag\\_low}   &      -0.0010   &        0.005     &    -0.202  &         0.840        &       -0.011    &        0.009     \\\\\n",
       "\\textbf{share\\_eq\\_bs\\_flag\\_low}            &       0.0046   &        0.001     &     3.720  &         0.000        &        0.002    &        0.007     \\\\\n",
       "\\textbf{extra\\_profit\\_loss\\_pl\\_flag\\_high} &       0.0185   &        0.012     &     1.504  &         0.132        &       -0.006    &        0.043     \\\\\n",
       "\\textbf{inc\\_bef\\_tax\\_pl\\_flag\\_high}       &    6.452e-05   &        0.004     &     0.017  &         0.986        &       -0.007    &        0.007     \\\\\n",
       "\\textbf{profit\\_loss\\_year\\_pl\\_flag\\_high}  &      -0.0054   &        0.004     &    -1.340  &         0.180        &       -0.013    &        0.002     \\\\\n",
       "\\textbf{share\\_eq\\_bs\\_flag\\_high}           &       0.0006   &        0.002     &     0.326  &         0.744        &       -0.003    &        0.004     \\\\\n",
       "\\textbf{extra\\_profit\\_loss\\_pl\\_flag\\_zero} &       0.0036   &        0.001     &     4.647  &         0.000        &        0.002    &        0.005     \\\\\n",
       "\\textbf{inc\\_bef\\_tax\\_pl\\_flag\\_zero}       &       0.0040   &        0.003     &     1.283  &         0.199        &       -0.002    &        0.010     \\\\\n",
       "\\textbf{profit\\_loss\\_year\\_pl\\_flag\\_zero}  &      -0.0020   &        0.002     &    -1.187  &         0.235        &       -0.005    &        0.001     \\\\\n",
       "\\textbf{share\\_eq\\_bs\\_flag\\_zero}           &       0.0003   &        0.005     &     0.059  &         0.953        &       -0.009    &        0.009     \\\\\n",
       "\\textbf{female}                              &       0.0003   &        0.000     &     0.742  &         0.458        &       -0.001    &        0.001     \\\\\n",
       "\\textbf{ceo\\_age}                            &   -1.031e-05   &     1.98e-05     &    -0.522  &         0.602        &     -4.9e-05    &     2.84e-05     \\\\\n",
       "\\textbf{flag\\_high\\_ceo\\_age}                &       0.0054   &        0.002     &     2.640  &         0.008        &        0.001    &        0.009     \\\\\n",
       "\\textbf{flag\\_low\\_ceo\\_age}                 &       0.0026   &        0.001     &     2.002  &         0.045        &     5.51e-05    &        0.005     \\\\\n",
       "\\textbf{flag\\_miss\\_ceo\\_age}                &      -0.0115   &        0.001     &   -18.706  &         0.000        &       -0.013    &       -0.010     \\\\\n",
       "\\textbf{ceo\\_count}                          &      -0.0021   &        0.000     &    -4.990  &         0.000        &       -0.003    &       -0.001     \\\\\n",
       "\\textbf{labor\\_avg\\_mod}                     &       0.0007   &        0.000     &     5.536  &         0.000        &        0.000    &        0.001     \\\\\n",
       "\\textbf{flag\\_miss\\_labor\\_avg}              &      -0.0042   &        0.000     &    -9.473  &         0.000        &       -0.005    &       -0.003     \\\\\n",
       "\\textbf{foreign\\_management}                 &       0.0084   &        0.001     &    12.660  &         0.000        &        0.007    &        0.010     \\\\\n",
       "\\textbf{balsheet\\_flag}                      &       0.0097   &        0.002     &     5.148  &         0.000        &        0.006    &        0.013     \\\\\n",
       "\\textbf{balsheet\\_length}                    &    9.676e-06   &     4.54e-06     &     2.130  &         0.033        &     7.72e-07    &     1.86e-05     \\\\\n",
       "\\textbf{balsheet\\_notfullyear}               &       0.0087   &        0.001     &     9.004  &         0.000        &        0.007    &        0.011     \\\\\n",
       "\\textbf{age}                                 &      -0.0004   &     8.84e-05     &    -4.318  &         0.000        &       -0.001    &       -0.000     \\\\\n",
       "\\textbf{age2}                                &    1.528e-05   &     3.53e-06     &     4.335  &         0.000        &     8.37e-06    &     2.22e-05     \\\\\n",
       "\\textbf{new}                                 &      -0.0002   &        0.001     &    -0.303  &         0.762        &       -0.002    &        0.001     \\\\\n",
       "\\bottomrule\n",
       "\\end{tabular}\n",
       "\\end{center}"
      ],
      "text/plain": [
       "<class 'statsmodels.iolib.table.SimpleTable'>"
      ]
     },
     "execution_count": 877,
     "metadata": {},
     "output_type": "execute_result"
    }
   ],
   "source": [
    "t = m.summary().tables[1]\n",
    "t"
   ]
  },
  {
   "cell_type": "code",
   "execution_count": 878,
   "metadata": {},
   "outputs": [],
   "source": [
    "columns = pd.DataFrame(t.data).iloc[0].tolist()"
   ]
  },
  {
   "cell_type": "code",
   "execution_count": 879,
   "metadata": {},
   "outputs": [
    {
     "data": {
      "text/html": [
       "<div>\n",
       "<style scoped>\n",
       "    .dataframe tbody tr th:only-of-type {\n",
       "        vertical-align: middle;\n",
       "    }\n",
       "\n",
       "    .dataframe tbody tr th {\n",
       "        vertical-align: top;\n",
       "    }\n",
       "\n",
       "    .dataframe thead th {\n",
       "        text-align: right;\n",
       "    }\n",
       "</style>\n",
       "<table border=\"1\" class=\"dataframe\">\n",
       "  <thead>\n",
       "    <tr style=\"text-align: right;\">\n",
       "      <th></th>\n",
       "      <th></th>\n",
       "      <th>dy/dx</th>\n",
       "      <th>std err</th>\n",
       "      <th>z</th>\n",
       "      <th>P&gt;|z|</th>\n",
       "      <th>[0.025</th>\n",
       "      <th>0.975]</th>\n",
       "    </tr>\n",
       "  </thead>\n",
       "  <tbody>\n",
       "    <tr>\n",
       "      <th>0</th>\n",
       "      <td>extra_exp_pl</td>\n",
       "      <td>0.01860</td>\n",
       "      <td>0.008</td>\n",
       "      <td>2.224</td>\n",
       "      <td>0.02600</td>\n",
       "      <td>0.002</td>\n",
       "      <td>0.035</td>\n",
       "    </tr>\n",
       "    <tr>\n",
       "      <th>1</th>\n",
       "      <td>extra_inc_pl_flag_error</td>\n",
       "      <td>0.01420</td>\n",
       "      <td>0.007</td>\n",
       "      <td>2.147</td>\n",
       "      <td>0.03200</td>\n",
       "      <td>0.001</td>\n",
       "      <td>0.027</td>\n",
       "    </tr>\n",
       "    <tr>\n",
       "      <th>2</th>\n",
       "      <td>balsheet_flag</td>\n",
       "      <td>0.00970</td>\n",
       "      <td>0.002</td>\n",
       "      <td>5.148</td>\n",
       "      <td>0.00000</td>\n",
       "      <td>0.006</td>\n",
       "      <td>0.013</td>\n",
       "    </tr>\n",
       "    <tr>\n",
       "      <th>3</th>\n",
       "      <td>inventories_pl_flag_high</td>\n",
       "      <td>0.00960</td>\n",
       "      <td>0.002</td>\n",
       "      <td>5.160</td>\n",
       "      <td>0.00000</td>\n",
       "      <td>0.006</td>\n",
       "      <td>0.013</td>\n",
       "    </tr>\n",
       "    <tr>\n",
       "      <th>4</th>\n",
       "      <td>balsheet_notfullyear</td>\n",
       "      <td>0.00870</td>\n",
       "      <td>0.001</td>\n",
       "      <td>9.004</td>\n",
       "      <td>0.00000</td>\n",
       "      <td>0.007</td>\n",
       "      <td>0.011</td>\n",
       "    </tr>\n",
       "    <tr>\n",
       "      <th>5</th>\n",
       "      <td>foreign_management</td>\n",
       "      <td>0.00840</td>\n",
       "      <td>0.001</td>\n",
       "      <td>12.660</td>\n",
       "      <td>0.00000</td>\n",
       "      <td>0.007</td>\n",
       "      <td>0.010</td>\n",
       "    </tr>\n",
       "    <tr>\n",
       "      <th>6</th>\n",
       "      <td>flag_high_ceo_age</td>\n",
       "      <td>0.00540</td>\n",
       "      <td>0.002</td>\n",
       "      <td>2.640</td>\n",
       "      <td>0.00800</td>\n",
       "      <td>0.001</td>\n",
       "      <td>0.009</td>\n",
       "    </tr>\n",
       "    <tr>\n",
       "      <th>7</th>\n",
       "      <td>share_eq_bs_flag_low</td>\n",
       "      <td>0.00460</td>\n",
       "      <td>0.001</td>\n",
       "      <td>3.720</td>\n",
       "      <td>0.00000</td>\n",
       "      <td>0.002</td>\n",
       "      <td>0.007</td>\n",
       "    </tr>\n",
       "    <tr>\n",
       "      <th>8</th>\n",
       "      <td>d1_sales_mil_log_mod_sq</td>\n",
       "      <td>0.00440</td>\n",
       "      <td>0.001</td>\n",
       "      <td>8.298</td>\n",
       "      <td>0.00000</td>\n",
       "      <td>0.003</td>\n",
       "      <td>0.005</td>\n",
       "    </tr>\n",
       "    <tr>\n",
       "      <th>9</th>\n",
       "      <td>extra_profit_loss_pl_flag_zero</td>\n",
       "      <td>0.00360</td>\n",
       "      <td>0.001</td>\n",
       "      <td>4.647</td>\n",
       "      <td>0.00000</td>\n",
       "      <td>0.002</td>\n",
       "      <td>0.005</td>\n",
       "    </tr>\n",
       "    <tr>\n",
       "      <th>10</th>\n",
       "      <td>curr_liab_bs_flag_high</td>\n",
       "      <td>0.00280</td>\n",
       "      <td>0.001</td>\n",
       "      <td>4.518</td>\n",
       "      <td>0.00000</td>\n",
       "      <td>0.002</td>\n",
       "      <td>0.004</td>\n",
       "    </tr>\n",
       "    <tr>\n",
       "      <th>11</th>\n",
       "      <td>flag_low_ceo_age</td>\n",
       "      <td>0.00260</td>\n",
       "      <td>0.001</td>\n",
       "      <td>2.002</td>\n",
       "      <td>0.04500</td>\n",
       "      <td>5.51e-05</td>\n",
       "      <td>0.005</td>\n",
       "    </tr>\n",
       "    <tr>\n",
       "      <th>12</th>\n",
       "      <td>material_exp_pl</td>\n",
       "      <td>0.00210</td>\n",
       "      <td>0.001</td>\n",
       "      <td>2.111</td>\n",
       "      <td>0.03500</td>\n",
       "      <td>0.000</td>\n",
       "      <td>0.004</td>\n",
       "    </tr>\n",
       "    <tr>\n",
       "      <th>13</th>\n",
       "      <td>subscribed_cap_bs_flag_high</td>\n",
       "      <td>0.00180</td>\n",
       "      <td>0.001</td>\n",
       "      <td>2.529</td>\n",
       "      <td>0.01100</td>\n",
       "      <td>0.000</td>\n",
       "      <td>0.003</td>\n",
       "    </tr>\n",
       "    <tr>\n",
       "      <th>14</th>\n",
       "      <td>labor_avg_mod</td>\n",
       "      <td>0.00070</td>\n",
       "      <td>0.000</td>\n",
       "      <td>5.536</td>\n",
       "      <td>0.00000</td>\n",
       "      <td>0.000</td>\n",
       "      <td>0.001</td>\n",
       "    </tr>\n",
       "    <tr>\n",
       "      <th>15</th>\n",
       "      <td>age2</td>\n",
       "      <td>0.00002</td>\n",
       "      <td>3.53e-06</td>\n",
       "      <td>4.335</td>\n",
       "      <td>0.00000</td>\n",
       "      <td>8.37e-06</td>\n",
       "      <td>2.22e-05</td>\n",
       "    </tr>\n",
       "    <tr>\n",
       "      <th>16</th>\n",
       "      <td>balsheet_length</td>\n",
       "      <td>0.00001</td>\n",
       "      <td>4.54e-06</td>\n",
       "      <td>2.130</td>\n",
       "      <td>0.03300</td>\n",
       "      <td>7.72e-07</td>\n",
       "      <td>1.86e-05</td>\n",
       "    </tr>\n",
       "    <tr>\n",
       "      <th>17</th>\n",
       "      <td>sales_mil_log_sq</td>\n",
       "      <td>-0.00020</td>\n",
       "      <td>3.06e-05</td>\n",
       "      <td>-7.863</td>\n",
       "      <td>0.00000</td>\n",
       "      <td>-0.000</td>\n",
       "      <td>-0.000</td>\n",
       "    </tr>\n",
       "    <tr>\n",
       "      <th>18</th>\n",
       "      <td>age</td>\n",
       "      <td>-0.00040</td>\n",
       "      <td>8.84e-05</td>\n",
       "      <td>-4.318</td>\n",
       "      <td>0.00000</td>\n",
       "      <td>-0.001</td>\n",
       "      <td>-0.000</td>\n",
       "    </tr>\n",
       "    <tr>\n",
       "      <th>19</th>\n",
       "      <td>ceo_count</td>\n",
       "      <td>-0.00210</td>\n",
       "      <td>0.000</td>\n",
       "      <td>-4.990</td>\n",
       "      <td>0.00000</td>\n",
       "      <td>-0.003</td>\n",
       "      <td>-0.001</td>\n",
       "    </tr>\n",
       "    <tr>\n",
       "      <th>20</th>\n",
       "      <td>d1_sales_mil_log_mod</td>\n",
       "      <td>-0.00360</td>\n",
       "      <td>0.001</td>\n",
       "      <td>-7.118</td>\n",
       "      <td>0.00000</td>\n",
       "      <td>-0.005</td>\n",
       "      <td>-0.003</td>\n",
       "    </tr>\n",
       "    <tr>\n",
       "      <th>21</th>\n",
       "      <td>flag_miss_labor_avg</td>\n",
       "      <td>-0.00420</td>\n",
       "      <td>0.000</td>\n",
       "      <td>-9.473</td>\n",
       "      <td>0.00000</td>\n",
       "      <td>-0.005</td>\n",
       "      <td>-0.003</td>\n",
       "    </tr>\n",
       "    <tr>\n",
       "      <th>22</th>\n",
       "      <td>sales_mil_log</td>\n",
       "      <td>-0.00430</td>\n",
       "      <td>0.000</td>\n",
       "      <td>-13.324</td>\n",
       "      <td>0.00000</td>\n",
       "      <td>-0.005</td>\n",
       "      <td>-0.004</td>\n",
       "    </tr>\n",
       "    <tr>\n",
       "      <th>23</th>\n",
       "      <td>flag_low_d1_sales_mil_log</td>\n",
       "      <td>-0.00470</td>\n",
       "      <td>0.001</td>\n",
       "      <td>-4.674</td>\n",
       "      <td>0.00000</td>\n",
       "      <td>-0.007</td>\n",
       "      <td>-0.003</td>\n",
       "    </tr>\n",
       "    <tr>\n",
       "      <th>24</th>\n",
       "      <td>fixed_assets_bs</td>\n",
       "      <td>-0.00930</td>\n",
       "      <td>0.005</td>\n",
       "      <td>-2.041</td>\n",
       "      <td>0.04100</td>\n",
       "      <td>-0.018</td>\n",
       "      <td>-0.000</td>\n",
       "    </tr>\n",
       "    <tr>\n",
       "      <th>25</th>\n",
       "      <td>flag_miss_ceo_age</td>\n",
       "      <td>-0.01150</td>\n",
       "      <td>0.001</td>\n",
       "      <td>-18.706</td>\n",
       "      <td>0.00000</td>\n",
       "      <td>-0.013</td>\n",
       "      <td>-0.010</td>\n",
       "    </tr>\n",
       "    <tr>\n",
       "      <th>26</th>\n",
       "      <td>inventories_pl</td>\n",
       "      <td>-0.01180</td>\n",
       "      <td>0.002</td>\n",
       "      <td>-6.758</td>\n",
       "      <td>0.00000</td>\n",
       "      <td>-0.015</td>\n",
       "      <td>-0.008</td>\n",
       "    </tr>\n",
       "  </tbody>\n",
       "</table>\n",
       "</div>"
      ],
      "text/plain": [
       "                                      dy/dx    std err          z   P>|z|  \\\n",
       "0                     extra_exp_pl  0.01860      0.008      2.224 0.02600   \n",
       "1          extra_inc_pl_flag_error  0.01420      0.007      2.147 0.03200   \n",
       "2                    balsheet_flag  0.00970      0.002      5.148 0.00000   \n",
       "3         inventories_pl_flag_high  0.00960      0.002      5.160 0.00000   \n",
       "4             balsheet_notfullyear  0.00870      0.001      9.004 0.00000   \n",
       "5               foreign_management  0.00840      0.001     12.660 0.00000   \n",
       "6                flag_high_ceo_age  0.00540      0.002      2.640 0.00800   \n",
       "7             share_eq_bs_flag_low  0.00460      0.001      3.720 0.00000   \n",
       "8          d1_sales_mil_log_mod_sq  0.00440      0.001      8.298 0.00000   \n",
       "9   extra_profit_loss_pl_flag_zero  0.00360      0.001      4.647 0.00000   \n",
       "10          curr_liab_bs_flag_high  0.00280      0.001      4.518 0.00000   \n",
       "11                flag_low_ceo_age  0.00260      0.001      2.002 0.04500   \n",
       "12                 material_exp_pl  0.00210      0.001      2.111 0.03500   \n",
       "13     subscribed_cap_bs_flag_high  0.00180      0.001      2.529 0.01100   \n",
       "14                   labor_avg_mod  0.00070      0.000      5.536 0.00000   \n",
       "15                            age2  0.00002   3.53e-06      4.335 0.00000   \n",
       "16                 balsheet_length  0.00001   4.54e-06      2.130 0.03300   \n",
       "17                sales_mil_log_sq -0.00020   3.06e-05     -7.863 0.00000   \n",
       "18                             age -0.00040   8.84e-05     -4.318 0.00000   \n",
       "19                       ceo_count -0.00210      0.000     -4.990 0.00000   \n",
       "20            d1_sales_mil_log_mod -0.00360      0.001     -7.118 0.00000   \n",
       "21             flag_miss_labor_avg -0.00420      0.000     -9.473 0.00000   \n",
       "22                   sales_mil_log -0.00430      0.000    -13.324 0.00000   \n",
       "23       flag_low_d1_sales_mil_log -0.00470      0.001     -4.674 0.00000   \n",
       "24                 fixed_assets_bs -0.00930      0.005     -2.041 0.04100   \n",
       "25               flag_miss_ceo_age -0.01150      0.001    -18.706 0.00000   \n",
       "26                  inventories_pl -0.01180      0.002     -6.758 0.00000   \n",
       "\n",
       "       [0.025     0.975]  \n",
       "0       0.002      0.035  \n",
       "1       0.001      0.027  \n",
       "2       0.006      0.013  \n",
       "3       0.006      0.013  \n",
       "4       0.007      0.011  \n",
       "5       0.007      0.010  \n",
       "6       0.001      0.009  \n",
       "7       0.002      0.007  \n",
       "8       0.003      0.005  \n",
       "9       0.002      0.005  \n",
       "10      0.002      0.004  \n",
       "11   5.51e-05      0.005  \n",
       "12      0.000      0.004  \n",
       "13      0.000      0.003  \n",
       "14      0.000      0.001  \n",
       "15   8.37e-06   2.22e-05  \n",
       "16   7.72e-07   1.86e-05  \n",
       "17     -0.000     -0.000  \n",
       "18     -0.001     -0.000  \n",
       "19     -0.003     -0.001  \n",
       "20     -0.005     -0.003  \n",
       "21     -0.005     -0.003  \n",
       "22     -0.005     -0.004  \n",
       "23     -0.007     -0.003  \n",
       "24     -0.018     -0.000  \n",
       "25     -0.013     -0.010  \n",
       "26     -0.015     -0.008  "
      ]
     },
     "execution_count": 879,
     "metadata": {},
     "output_type": "execute_result"
    }
   ],
   "source": [
    "df_marginal_effects = pd.DataFrame(t.data, columns = columns).iloc[1:].astype(\n",
    "    {'dy/dx': float, 'P>|z|': float})\n",
    "df_marginal_effects[df_marginal_effects['P>|z|'] <= 0.05].sort_values(by = 'dy/dx', ascending = False).reset_index(drop = True)"
   ]
  },
  {
   "cell_type": "markdown",
   "metadata": {},
   "source": [
    "# Predictions using cross-validations"
   ]
  },
  {
   "cell_type": "code",
   "execution_count": null,
   "metadata": {},
   "outputs": [],
   "source": []
  },
  {
   "cell_type": "code",
   "execution_count": null,
   "metadata": {},
   "outputs": [],
   "source": []
  }
 ],
 "metadata": {
  "kernelspec": {
   "display_name": "Python 3",
   "language": "python",
   "name": "python3"
  },
  "language_info": {
   "codemirror_mode": {
    "name": "ipython",
    "version": 3
   },
   "file_extension": ".py",
   "mimetype": "text/x-python",
   "name": "python",
   "nbconvert_exporter": "python",
   "pygments_lexer": "ipython3",
   "version": "3.11.8"
  }
 },
 "nbformat": 4,
 "nbformat_minor": 2
}
